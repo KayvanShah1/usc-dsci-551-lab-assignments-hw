{
  "nbformat": 4,
  "nbformat_minor": 0,
  "metadata": {
    "colab": {
      "provenance": [],
      "authorship_tag": "ABX9TyMkA07S2g7KPaofJFpGczv4",
      "include_colab_link": true
    },
    "kernelspec": {
      "name": "python3",
      "display_name": "Python 3"
    },
    "language_info": {
      "name": "python"
    }
  },
  "cells": [
    {
      "cell_type": "markdown",
      "metadata": {
        "id": "view-in-github",
        "colab_type": "text"
      },
      "source": [
        "<a href=\"https://colab.research.google.com/github/KayvanShah1/usc-dsci-551-lab-assignments-hw/blob/main/homework-5/solution/PySpark_Assignment.ipynb\" target=\"_parent\"><img src=\"https://colab.research.google.com/assets/colab-badge.svg\" alt=\"Open In Colab\"/></a>"
      ]
    },
    {
      "cell_type": "markdown",
      "source": [
        "# Installation"
      ],
      "metadata": {
        "id": "mrrVPrhv2_cG"
      }
    },
    {
      "cell_type": "code",
      "execution_count": null,
      "metadata": {
        "colab": {
          "base_uri": "https://localhost:8080/"
        },
        "id": "rPqt1SnN27dm",
        "outputId": "94a505b5-08fc-47c6-fa50-fce9f45068e0"
      },
      "outputs": [
        {
          "output_type": "stream",
          "name": "stdout",
          "text": [
            "Looking in indexes: https://pypi.org/simple, https://us-python.pkg.dev/colab-wheels/public/simple/\n",
            "Collecting pyspark\n",
            "  Downloading pyspark-3.4.0.tar.gz (310.8 MB)\n",
            "\u001b[2K     \u001b[90m━━━━━━━━━━━━━━━━━━━━━━━━━━━━━━━━━━━━━━━\u001b[0m \u001b[32m310.8/310.8 MB\u001b[0m \u001b[31m2.5 MB/s\u001b[0m eta \u001b[36m0:00:00\u001b[0m\n",
            "\u001b[?25h  Preparing metadata (setup.py) ... \u001b[?25l\u001b[?25hdone\n",
            "Requirement already satisfied: py4j==0.10.9.7 in /usr/local/lib/python3.9/dist-packages (from pyspark) (0.10.9.7)\n",
            "Building wheels for collected packages: pyspark\n",
            "  Building wheel for pyspark (setup.py) ... \u001b[?25l\u001b[?25hdone\n",
            "  Created wheel for pyspark: filename=pyspark-3.4.0-py2.py3-none-any.whl size=311317145 sha256=1aacc411c7d28f0ca6e4c8024be19c576fe141c4ee3c2d6baf1af7e6b27bab91\n",
            "  Stored in directory: /root/.cache/pip/wheels/9f/34/a4/159aa12d0a510d5ff7c8f0220abbea42e5d81ecf588c4fd884\n",
            "Successfully built pyspark\n",
            "Installing collected packages: pyspark\n",
            "Successfully installed pyspark-3.4.0\n",
            "Looking in indexes: https://pypi.org/simple, https://us-python.pkg.dev/colab-wheels/public/simple/\n",
            "Collecting ipython-autotime\n",
            "  Downloading ipython_autotime-0.3.1-py2.py3-none-any.whl (6.8 kB)\n",
            "Requirement already satisfied: ipython in /usr/local/lib/python3.9/dist-packages (from ipython-autotime) (7.34.0)\n",
            "Requirement already satisfied: decorator in /usr/local/lib/python3.9/dist-packages (from ipython->ipython-autotime) (4.4.2)\n",
            "Requirement already satisfied: pickleshare in /usr/local/lib/python3.9/dist-packages (from ipython->ipython-autotime) (0.7.5)\n",
            "Requirement already satisfied: setuptools>=18.5 in /usr/local/lib/python3.9/dist-packages (from ipython->ipython-autotime) (67.6.1)\n",
            "Requirement already satisfied: matplotlib-inline in /usr/local/lib/python3.9/dist-packages (from ipython->ipython-autotime) (0.1.6)\n",
            "Requirement already satisfied: pygments in /usr/local/lib/python3.9/dist-packages (from ipython->ipython-autotime) (2.14.0)\n",
            "Requirement already satisfied: backcall in /usr/local/lib/python3.9/dist-packages (from ipython->ipython-autotime) (0.2.0)\n",
            "Collecting jedi>=0.16\n",
            "  Downloading jedi-0.18.2-py2.py3-none-any.whl (1.6 MB)\n",
            "\u001b[2K     \u001b[90m━━━━━━━━━━━━━━━━━━━━━━━━━━━━━━━━━━━━━━━━\u001b[0m \u001b[32m1.6/1.6 MB\u001b[0m \u001b[31m24.8 MB/s\u001b[0m eta \u001b[36m0:00:00\u001b[0m\n",
            "\u001b[?25hRequirement already satisfied: pexpect>4.3 in /usr/local/lib/python3.9/dist-packages (from ipython->ipython-autotime) (4.8.0)\n",
            "Requirement already satisfied: prompt-toolkit!=3.0.0,!=3.0.1,<3.1.0,>=2.0.0 in /usr/local/lib/python3.9/dist-packages (from ipython->ipython-autotime) (3.0.38)\n",
            "Requirement already satisfied: traitlets>=4.2 in /usr/local/lib/python3.9/dist-packages (from ipython->ipython-autotime) (5.7.1)\n",
            "Requirement already satisfied: parso<0.9.0,>=0.8.0 in /usr/local/lib/python3.9/dist-packages (from jedi>=0.16->ipython->ipython-autotime) (0.8.3)\n",
            "Requirement already satisfied: ptyprocess>=0.5 in /usr/local/lib/python3.9/dist-packages (from pexpect>4.3->ipython->ipython-autotime) (0.7.0)\n",
            "Requirement already satisfied: wcwidth in /usr/local/lib/python3.9/dist-packages (from prompt-toolkit!=3.0.0,!=3.0.1,<3.1.0,>=2.0.0->ipython->ipython-autotime) (0.2.6)\n",
            "Installing collected packages: jedi, ipython-autotime\n",
            "Successfully installed ipython-autotime-0.3.1 jedi-0.18.2\n",
            "time: 546 µs (started: 2023-04-20 08:54:09 +00:00)\n"
          ]
        }
      ],
      "source": [
        "!pip install pyspark\n",
        "!pip install ipython-autotime\n",
        "%load_ext autotime"
      ]
    },
    {
      "cell_type": "code",
      "source": [
        "%%bash\n",
        "java --version"
      ],
      "metadata": {
        "colab": {
          "base_uri": "https://localhost:8080/"
        },
        "id": "_W8iNUi-3JI5",
        "outputId": "b4cec140-69b1-4ccb-d0d7-68e07f3f88d1"
      },
      "execution_count": null,
      "outputs": [
        {
          "output_type": "stream",
          "name": "stdout",
          "text": [
            "openjdk 11.0.18 2023-01-17\n",
            "OpenJDK Runtime Environment (build 11.0.18+10-post-Ubuntu-0ubuntu120.04.1)\n",
            "OpenJDK 64-Bit Server VM (build 11.0.18+10-post-Ubuntu-0ubuntu120.04.1, mixed mode, sharing)\n",
            "time: 373 ms (started: 2023-04-20 08:54:09 +00:00)\n"
          ]
        }
      ]
    },
    {
      "cell_type": "markdown",
      "source": [
        "# Spark Session"
      ],
      "metadata": {
        "id": "6UYUIHwq3RpA"
      }
    },
    {
      "cell_type": "code",
      "source": [
        "# Import SparkSession\n",
        "from pyspark.sql import SparkSession\n",
        "# Create a Spark Session\n",
        "spark = SparkSession.builder.master(\"local[*]\").getOrCreate()\n",
        "# Check Spark Session Information\n",
        "spark"
      ],
      "metadata": {
        "colab": {
          "base_uri": "https://localhost:8080/",
          "height": 237
        },
        "id": "2UAAGls_3T4o",
        "outputId": "f9de56c5-b5c8-44d0-b5c5-c35f6c76b529"
      },
      "execution_count": null,
      "outputs": [
        {
          "output_type": "execute_result",
          "data": {
            "text/plain": [
              "<pyspark.sql.session.SparkSession at 0x7ffa54dce9a0>"
            ],
            "text/html": [
              "\n",
              "            <div>\n",
              "                <p><b>SparkSession - in-memory</b></p>\n",
              "                \n",
              "        <div>\n",
              "            <p><b>SparkContext</b></p>\n",
              "\n",
              "            <p><a href=\"http://4f9d245d6dd7:4040\">Spark UI</a></p>\n",
              "\n",
              "            <dl>\n",
              "              <dt>Version</dt>\n",
              "                <dd><code>v3.4.0</code></dd>\n",
              "              <dt>Master</dt>\n",
              "                <dd><code>local[*]</code></dd>\n",
              "              <dt>AppName</dt>\n",
              "                <dd><code>pyspark-shell</code></dd>\n",
              "            </dl>\n",
              "        </div>\n",
              "        \n",
              "            </div>\n",
              "        "
            ]
          },
          "metadata": {},
          "execution_count": 3
        },
        {
          "output_type": "stream",
          "name": "stdout",
          "text": [
            "time: 12.8 s (started: 2023-04-20 08:54:09 +00:00)\n"
          ]
        }
      ]
    },
    {
      "cell_type": "code",
      "source": [
        "import pyspark.sql.functions as fc"
      ],
      "metadata": {
        "colab": {
          "base_uri": "https://localhost:8080/"
        },
        "id": "RYzQq56c4kbN",
        "outputId": "41f6c75b-7661-4282-c4c5-10a617036581"
      },
      "execution_count": null,
      "outputs": [
        {
          "output_type": "stream",
          "name": "stdout",
          "text": [
            "time: 676 µs (started: 2023-04-20 08:58:03 +00:00)\n"
          ]
        }
      ]
    },
    {
      "cell_type": "markdown",
      "source": [
        "# Assignment Solution"
      ],
      "metadata": {
        "id": "ajllNKjr3777"
      }
    },
    {
      "cell_type": "markdown",
      "source": [
        "Load Data to dataframes"
      ],
      "metadata": {
        "id": "TQI44SZI6DyP"
      }
    },
    {
      "cell_type": "code",
      "source": [
        "country_df = spark.read.json(\"country.json\")\n",
        "city_df = spark.read.json(\"city.json\")\n",
        "country_lang_df = spark.read.json(\"countrylanguage.json\")\n",
        "\n",
        "aqi_df = spark.read.csv(\"aqi.csv\", header=True, inferSchema=True)"
      ],
      "metadata": {
        "colab": {
          "base_uri": "https://localhost:8080/"
        },
        "id": "BxKwP6_p5bc-",
        "outputId": "0968249c-e281-4625-d032-e97f6e4a616a"
      },
      "execution_count": null,
      "outputs": [
        {
          "output_type": "stream",
          "name": "stdout",
          "text": [
            "time: 1.85 s (started: 2023-04-20 09:06:24 +00:00)\n"
          ]
        }
      ]
    },
    {
      "cell_type": "markdown",
      "source": [
        "### Sample View"
      ],
      "metadata": {
        "id": "ZrBCCJOL6lU_"
      }
    },
    {
      "cell_type": "code",
      "source": [
        "country_df.show(5)"
      ],
      "metadata": {
        "colab": {
          "base_uri": "https://localhost:8080/"
        },
        "id": "QpecbV4U6n3I",
        "outputId": "cc006b03-a7de-4d61-db4a-9c88d94cce6e"
      },
      "execution_count": null,
      "outputs": [
        {
          "output_type": "stream",
          "name": "stdout",
          "text": [
            "+-------+----+-----+-------------+------+------+--------------------+--------------------+---------+--------------+--------------------+-----------+----------+--------------------+-----------+\n",
            "|Capital|Code|Code2|    Continent|   GNP|GNPOld|      GovernmentForm|         HeadOfState|IndepYear|LifeExpectancy|           LocalName|       Name|Population|              Region|SurfaceArea|\n",
            "+-------+----+-----+-------------+------+------+--------------------+--------------------+---------+--------------+--------------------+-----------+----------+--------------------+-----------+\n",
            "|    129| ABW|   AW|North America| 828.0| 793.0|Nonmetropolitan T...|             Beatrix|        0|          78.4|               Aruba|      Aruba|    103000|           Caribbean|      193.0|\n",
            "|      1| AFG|   AF|         Asia|5976.0|   0.0|     Islamic Emirate|       Mohammad Omar|     1919|          45.9|Afganistan/Afqane...|Afghanistan|  22720000|Southern and Cent...|   652090.0|\n",
            "|     56| AGO|   AO|       Africa|6648.0|7984.0|            Republic|JosÃ© Eduardo dos...|     1975|          38.3|              Angola|     Angola|  12878000|      Central Africa|  1246700.0|\n",
            "|     62| AIA|   AI|North America|  63.2|   0.0|Dependent Territo...|        Elisabeth II|        0|          76.1|            Anguilla|   Anguilla|      8000|           Caribbean|       96.0|\n",
            "|     34| ALB|   AL|       Europe|3205.0|2500.0|            Republic|      Rexhep Mejdani|     1912|          71.6|          ShqipÃ«ria|    Albania|   3401200|     Southern Europe|    28748.0|\n",
            "+-------+----+-----+-------------+------+------+--------------------+--------------------+---------+--------------+--------------------+-----------+----------+--------------------+-----------+\n",
            "only showing top 5 rows\n",
            "\n",
            "time: 281 ms (started: 2023-04-20 09:11:19 +00:00)\n"
          ]
        }
      ]
    },
    {
      "cell_type": "code",
      "source": [
        "city_df.show(5)"
      ],
      "metadata": {
        "colab": {
          "base_uri": "https://localhost:8080/"
        },
        "id": "lZ-KmipB6vqX",
        "outputId": "a20b9730-0c5c-4228-94b7-b1e3874ef5bc"
      },
      "execution_count": null,
      "outputs": [
        {
          "output_type": "stream",
          "name": "stdout",
          "text": [
            "+-----------+-------------+---+--------------+----------+\n",
            "|CountryCode|     District| ID|          Name|Population|\n",
            "+-----------+-------------+---+--------------+----------+\n",
            "|        AFG|        Kabol|  1|         Kabul|   1780000|\n",
            "|        AFG|     Qandahar|  2|      Qandahar|    237500|\n",
            "|        AFG|        Herat|  3|         Herat|    186800|\n",
            "|        AFG|        Balkh|  4|Mazar-e-Sharif|    127800|\n",
            "|        NLD|Noord-Holland|  5|     Amsterdam|    731200|\n",
            "+-----------+-------------+---+--------------+----------+\n",
            "only showing top 5 rows\n",
            "\n",
            "time: 330 ms (started: 2023-04-20 09:07:22 +00:00)\n"
          ]
        }
      ]
    },
    {
      "cell_type": "code",
      "source": [
        "country_lang_df.show(5)"
      ],
      "metadata": {
        "colab": {
          "base_uri": "https://localhost:8080/"
        },
        "id": "G7400chF6z2f",
        "outputId": "8720435a-1b52-40a1-fe3c-6713eb1e2b94"
      },
      "execution_count": null,
      "outputs": [
        {
          "output_type": "stream",
          "name": "stdout",
          "text": [
            "+-----------+----------+----------+----------+\n",
            "|CountryCode|IsOfficial|  Language|Percentage|\n",
            "+-----------+----------+----------+----------+\n",
            "|        ABW|         T|     Dutch|       5.3|\n",
            "|        ABW|         F|   English|       9.5|\n",
            "|        ABW|         F|Papiamento|      76.7|\n",
            "|        ABW|         F|   Spanish|       7.4|\n",
            "|        AFG|         F|   Balochi|       0.9|\n",
            "+-----------+----------+----------+----------+\n",
            "only showing top 5 rows\n",
            "\n",
            "time: 317 ms (started: 2023-04-20 09:07:38 +00:00)\n"
          ]
        }
      ]
    },
    {
      "cell_type": "code",
      "source": [
        "aqi_df.show(5)"
      ],
      "metadata": {
        "colab": {
          "base_uri": "https://localhost:8080/"
        },
        "id": "emXkCeEK63K5",
        "outputId": "a2da23bc-84eb-4f15-8e11-4a93f22546e5"
      },
      "execution_count": null,
      "outputs": [
        {
          "output_type": "stream",
          "name": "stdout",
          "text": [
            "+----------+---------+--------------------+-----+\n",
            "|      date|  country|              status|value|\n",
            "+----------+---------+--------------------+-----+\n",
            "|2022-07-21|  Albania|                Good|   14|\n",
            "|2022-07-21|  Algeria|            Moderate|   65|\n",
            "|2022-07-21|  Andorra|            Moderate|   55|\n",
            "|2022-07-21|   Angola|Unhealthy for Sen...|  113|\n",
            "|2022-07-21|Argentina|            Moderate|   63|\n",
            "+----------+---------+--------------------+-----+\n",
            "only showing top 5 rows\n",
            "\n",
            "time: 317 ms (started: 2023-04-20 09:07:53 +00:00)\n"
          ]
        }
      ]
    },
    {
      "cell_type": "markdown",
      "source": [
        "## Question 2"
      ],
      "metadata": {
        "id": "cFtGdfrT3_Uf"
      }
    },
    {
      "cell_type": "markdown",
      "source": [
        "### a.i"
      ],
      "metadata": {
        "id": "phM8N5uW4g_3"
      }
    },
    {
      "cell_type": "code",
      "source": [
        "joined_df = aqi_df.join(country_df, aqi_df.country == country_df.Name)\n",
        "joined_df.show(10)"
      ],
      "metadata": {
        "colab": {
          "base_uri": "https://localhost:8080/"
        },
        "id": "iG5DFTlM3esJ",
        "outputId": "9e8cd3c5-0d84-4676-e580-b26dc2f3359b"
      },
      "execution_count": 102,
      "outputs": [
        {
          "output_type": "stream",
          "name": "stdout",
          "text": [
            "+----------+----------+--------------------+-----+----+-----+-------+----+-----+-------------+--------+--------+--------------------+--------------------+---------+--------------+--------------------+----------+----------+--------------------+-----------+\n",
            "|      date|   country|              status|value|year|month|Capital|Code|Code2|    Continent|     GNP|  GNPOld|      GovernmentForm|         HeadOfState|IndepYear|LifeExpectancy|           LocalName|      Name|Population|              Region|SurfaceArea|\n",
            "+----------+----------+--------------------+-----+----+-----+-------+----+-----+-------------+--------+--------+--------------------+--------------------+---------+--------------+--------------------+----------+----------+--------------------+-----------+\n",
            "|2022-07-21|   Albania|                Good|   14|2022|    7|     34| ALB|   AL|       Europe|  3205.0|  2500.0|            Republic|      Rexhep Mejdani|     1912|          71.6|          ShqipÃ«ria|   Albania|   3401200|     Southern Europe|    28748.0|\n",
            "|2022-07-21|   Algeria|            Moderate|   65|2022|    7|     35| DZA|   DZ|       Africa| 49982.0| 46966.0|            Republic|Abdelaziz Bouteflika|     1962|          69.7|Al-JazaÂ’ir/AlgÃ©rie|   Algeria|  31471000|     Northern Africa|  2381741.0|\n",
            "|2022-07-21|   Andorra|            Moderate|   55|2022|    7|     55| AND|   AD|       Europe|  1630.0|     0.0|Parliamentary Cop...|                    |     1278|          83.5|             Andorra|   Andorra|     78000|     Southern Europe|      468.0|\n",
            "|2022-07-21|    Angola|Unhealthy for Sen...|  113|2022|    7|     56| AGO|   AO|       Africa|  6648.0|  7984.0|            Republic|JosÃ© Eduardo dos...|     1975|          38.3|              Angola|    Angola|  12878000|      Central Africa|  1246700.0|\n",
            "|2022-07-21| Argentina|            Moderate|   63|2022|    7|     69| ARG|   AR|South America|340238.0|323310.0|    Federal Republic| Fernando de la RÃºa|     1816|          75.1|           Argentina| Argentina|  37032000|       South America|  2780400.0|\n",
            "|2022-07-21|   Armenia|            Moderate|   76|2022|    7|    126| ARM|   AM|         Asia|  1813.0|  1627.0|            Republic|   Robert KotÂšarjan|     1991|          66.4|            Hajastan|   Armenia|   3520000|         Middle East|    29800.0|\n",
            "|2022-07-21| Australia|            Moderate|   56|2022|    7|    135| AUS|   AU|      Oceania|351182.0|392911.0|Constitutional Mo...|        Elisabeth II|     1901|          79.8|           Australia| Australia|  18886000|Australia and New...|  7741220.0|\n",
            "|2022-07-21|   Austria|                Good|   45|2022|    7|   1523| AUT|   AT|       Europe|211860.0|206025.0|    Federal Republic|      Thomas Klestil|     1918|          77.7|         Ã–sterreich|   Austria|   8091800|      Western Europe|    83859.0|\n",
            "|2022-07-21|Azerbaijan|                Good|   12|2022|    7|    144| AZE|   AZ|         Asia|  4127.0|  4100.0|    Federal Republic|     HeydÃ¤r Ã„liyev|     1991|          62.9|         AzÃ¤rbaycan|Azerbaijan|   7734000|         Middle East|    86600.0|\n",
            "|2022-07-21|   Bahrain|           Unhealthy|  165|2022|    7|    149| BHR|   BH|         Asia|  6366.0|  6097.0|  Monarchy (Emirate)|Hamad ibn Isa al-...|     1971|          73.0|          Al-Bahrayn|   Bahrain|    617000|         Middle East|      694.0|\n",
            "+----------+----------+--------------------+-----+----+-----+-------+----+-----+-------------+--------+--------+--------------------+--------------------+---------+--------------+--------------------+----------+----------+--------------------+-----------+\n",
            "only showing top 10 rows\n",
            "\n",
            "time: 808 ms (started: 2023-04-21 00:13:30 +00:00)\n"
          ]
        }
      ]
    },
    {
      "cell_type": "code",
      "source": [
        "result_df = joined_df.select(\"Name\").distinct().sort(\"Name\")\n",
        "result_df.show(truncate=False)"
      ],
      "metadata": {
        "colab": {
          "base_uri": "https://localhost:8080/"
        },
        "id": "PNL2i7WM77_g",
        "outputId": "e0acb207-be6d-4b94-b9ea-966ff56c0129"
      },
      "execution_count": 121,
      "outputs": [
        {
          "output_type": "stream",
          "name": "stdout",
          "text": [
            "+----------------------+\n",
            "|Name                  |\n",
            "+----------------------+\n",
            "|Albania               |\n",
            "|Algeria               |\n",
            "|Andorra               |\n",
            "|Angola                |\n",
            "|Argentina             |\n",
            "|Armenia               |\n",
            "|Australia             |\n",
            "|Austria               |\n",
            "|Azerbaijan            |\n",
            "|Bahrain               |\n",
            "|Bangladesh            |\n",
            "|Belarus               |\n",
            "|Belgium               |\n",
            "|Belize                |\n",
            "|Bermuda               |\n",
            "|Bolivia               |\n",
            "|Bosnia and Herzegovina|\n",
            "|Brazil                |\n",
            "|Brunei                |\n",
            "|Bulgaria              |\n",
            "+----------------------+\n",
            "only showing top 20 rows\n",
            "\n",
            "time: 541 ms (started: 2023-04-21 00:19:06 +00:00)\n"
          ]
        }
      ]
    },
    {
      "cell_type": "markdown",
      "source": [
        "### a.ii"
      ],
      "metadata": {
        "id": "R80KvS5X90PU"
      }
    },
    {
      "cell_type": "code",
      "source": [
        "country_set = country_df.select(\"Name\").distinct()\n",
        "aqi_set = aqi_df.select(\"country\").distinct()\n",
        "\n",
        "result_set = country_set.intersect(aqi_set).sort(\"Name\")\n",
        "\n",
        "result_set.show(truncate=False)"
      ],
      "metadata": {
        "colab": {
          "base_uri": "https://localhost:8080/"
        },
        "id": "nU-5KYVX91Pq",
        "outputId": "01b48695-5df5-4694-ff05-80530fb802e8"
      },
      "execution_count": 133,
      "outputs": [
        {
          "output_type": "stream",
          "name": "stdout",
          "text": [
            "+----------------------+\n",
            "|Name                  |\n",
            "+----------------------+\n",
            "|Albania               |\n",
            "|Algeria               |\n",
            "|Andorra               |\n",
            "|Angola                |\n",
            "|Argentina             |\n",
            "|Armenia               |\n",
            "|Australia             |\n",
            "|Austria               |\n",
            "|Azerbaijan            |\n",
            "|Bahrain               |\n",
            "|Bangladesh            |\n",
            "|Belarus               |\n",
            "|Belgium               |\n",
            "|Belize                |\n",
            "|Bermuda               |\n",
            "|Bolivia               |\n",
            "|Bosnia and Herzegovina|\n",
            "|Brazil                |\n",
            "|Brunei                |\n",
            "|Bulgaria              |\n",
            "+----------------------+\n",
            "only showing top 20 rows\n",
            "\n",
            "time: 612 ms (started: 2023-04-21 00:23:43 +00:00)\n"
          ]
        }
      ]
    },
    {
      "cell_type": "markdown",
      "source": [
        "### b.i"
      ],
      "metadata": {
        "id": "Yx9jkyA--Gdh"
      }
    },
    {
      "cell_type": "code",
      "source": [
        "joined_df = aqi_df.join(country_df, aqi_df.country == country_df.Name, \"left_anti\")\n",
        "\n",
        "result_df = joined_df.select(\"country\").distinct().sort(\"country\")\n",
        "result_df.show(truncate=False)"
      ],
      "metadata": {
        "colab": {
          "base_uri": "https://localhost:8080/"
        },
        "id": "n6KlGB7F-Ivh",
        "outputId": "dae5ef3d-8c90-48dc-bb38-4b8b97a0fe01"
      },
      "execution_count": 134,
      "outputs": [
        {
          "output_type": "stream",
          "name": "stdout",
          "text": [
            "+----------------------------------------------------+\n",
            "|country                                             |\n",
            "+----------------------------------------------------+\n",
            "|Ivory Coast                                         |\n",
            "|Jersey                                              |\n",
            "|Kazakhstan                                          |\n",
            "|Kosovo                                              |\n",
            "|Montenegro                                          |\n",
            "|Palestinian Territory                               |\n",
            "|Reunion                                             |\n",
            "|Russia                                              |\n",
            "|Serbia                                              |\n",
            "|United Kingdom of Great Britain and Northern Ireland|\n",
            "|United States of America                            |\n",
            "|Vatican                                             |\n",
            "+----------------------------------------------------+\n",
            "\n",
            "time: 602 ms (started: 2023-04-21 00:23:48 +00:00)\n"
          ]
        }
      ]
    },
    {
      "cell_type": "markdown",
      "source": [
        "### b.ii"
      ],
      "metadata": {
        "id": "hygAWpPID26n"
      }
    },
    {
      "cell_type": "code",
      "source": [
        "country_set = country_df.select(\"Name\").distinct()\n",
        "aqi_set = aqi_df.select(\"country\").distinct()\n",
        "\n",
        "result_set = aqi_set.subtract(country_set).sort(\"country\")\n",
        "\n",
        "result_set.show(truncate=False)"
      ],
      "metadata": {
        "colab": {
          "base_uri": "https://localhost:8080/"
        },
        "id": "vtVVur8FD5IK",
        "outputId": "aa398ab8-1d59-48fe-d739-9206743407a9"
      },
      "execution_count": 135,
      "outputs": [
        {
          "output_type": "stream",
          "name": "stdout",
          "text": [
            "+----------------------------------------------------+\n",
            "|country                                             |\n",
            "+----------------------------------------------------+\n",
            "|Ivory Coast                                         |\n",
            "|Jersey                                              |\n",
            "|Kazakhstan                                          |\n",
            "|Kosovo                                              |\n",
            "|Montenegro                                          |\n",
            "|Palestinian Territory                               |\n",
            "|Reunion                                             |\n",
            "|Russia                                              |\n",
            "|Serbia                                              |\n",
            "|United Kingdom of Great Britain and Northern Ireland|\n",
            "|United States of America                            |\n",
            "|Vatican                                             |\n",
            "+----------------------------------------------------+\n",
            "\n",
            "time: 833 ms (started: 2023-04-21 00:23:54 +00:00)\n"
          ]
        }
      ]
    },
    {
      "cell_type": "markdown",
      "source": [
        "### c.i"
      ],
      "metadata": {
        "id": "9IO8tF3qEZ6B"
      }
    },
    {
      "cell_type": "code",
      "source": [
        "joined_df = country_df.join(aqi_df, aqi_df.country == country_df.Name, \"left_anti\")\n",
        "\n",
        "result_df = joined_df.select(\"Name\").distinct().sort(\"Name\")\n",
        "result_df.show(truncate=False)"
      ],
      "metadata": {
        "colab": {
          "base_uri": "https://localhost:8080/"
        },
        "id": "gubS6oHtEf2e",
        "outputId": "9e77281f-2b30-447f-e27c-21a64ffe3f1d"
      },
      "execution_count": 136,
      "outputs": [
        {
          "output_type": "stream",
          "name": "stdout",
          "text": [
            "+-------------------------------------+\n",
            "|Name                                 |\n",
            "+-------------------------------------+\n",
            "|Afghanistan                          |\n",
            "|American Samoa                       |\n",
            "|Anguilla                             |\n",
            "|Antarctica                           |\n",
            "|Antigua and Barbuda                  |\n",
            "|Aruba                                |\n",
            "|Bahamas                              |\n",
            "|Barbados                             |\n",
            "|Benin                                |\n",
            "|Bhutan                               |\n",
            "|Botswana                             |\n",
            "|Bouvet Island                        |\n",
            "|British Indian Ocean Territory       |\n",
            "|Burundi                              |\n",
            "|Cameroon                             |\n",
            "|Christmas Island                     |\n",
            "|Cocos (Keeling) Islands              |\n",
            "|Comoros                              |\n",
            "|Congo                                |\n",
            "|Congo, The Democratic Republic of the|\n",
            "+-------------------------------------+\n",
            "only showing top 20 rows\n",
            "\n",
            "time: 727 ms (started: 2023-04-21 00:23:59 +00:00)\n"
          ]
        }
      ]
    },
    {
      "cell_type": "markdown",
      "source": [
        "### c.ii"
      ],
      "metadata": {
        "id": "3LzqpXYhEcwJ"
      }
    },
    {
      "cell_type": "code",
      "source": [
        "country_set = country_df.select(\"Name\").distinct()\n",
        "aqi_set = aqi_df.select(\"country\").distinct()\n",
        "\n",
        "result_set = country_set.subtract(aqi_set).sort(\"Name\")\n",
        "\n",
        "result_set.show(truncate=False)"
      ],
      "metadata": {
        "colab": {
          "base_uri": "https://localhost:8080/"
        },
        "id": "e1457uwDFESL",
        "outputId": "e67c1bfb-18ee-47d6-b56e-8bd0489ae586"
      },
      "execution_count": 137,
      "outputs": [
        {
          "output_type": "stream",
          "name": "stdout",
          "text": [
            "+-------------------------------------+\n",
            "|Name                                 |\n",
            "+-------------------------------------+\n",
            "|Afghanistan                          |\n",
            "|American Samoa                       |\n",
            "|Anguilla                             |\n",
            "|Antarctica                           |\n",
            "|Antigua and Barbuda                  |\n",
            "|Aruba                                |\n",
            "|Bahamas                              |\n",
            "|Barbados                             |\n",
            "|Benin                                |\n",
            "|Bhutan                               |\n",
            "|Botswana                             |\n",
            "|Bouvet Island                        |\n",
            "|British Indian Ocean Territory       |\n",
            "|Burundi                              |\n",
            "|Cameroon                             |\n",
            "|Christmas Island                     |\n",
            "|Cocos (Keeling) Islands              |\n",
            "|Comoros                              |\n",
            "|Congo                                |\n",
            "|Congo, The Democratic Republic of the|\n",
            "+-------------------------------------+\n",
            "only showing top 20 rows\n",
            "\n",
            "time: 659 ms (started: 2023-04-21 00:24:05 +00:00)\n"
          ]
        }
      ]
    },
    {
      "cell_type": "markdown",
      "source": [
        "### d"
      ],
      "metadata": {
        "id": "T7Cm20bEFMDO"
      }
    },
    {
      "cell_type": "code",
      "source": [
        "aqi_df = aqi_df.withColumn('year', fc.year('date'))\n",
        "aqi_df = aqi_df.withColumn('month', fc.month('date'))\n",
        "\n",
        "aqi_aug_2022_df = aqi_df.filter(\n",
        "    (aqi_df['year'] == 2022) & (aqi_df['month'] == 8)\n",
        ")\n",
        "\n",
        "aqi_aug_2022_df = aqi_aug_2022_df.groupBy('status')\n",
        "\n",
        "aqi_aug_2022_df = aqi_aug_2022_df.agg(fc.avg('value').alias('avg_value'))\n",
        "\n",
        "aqi_aug_2022_df = aqi_aug_2022_df.filter(fc.count('value') >= 100)\n",
        "aqi_aug_2022_df = aqi_aug_2022_df.sort(\"avg_value\")\n",
        "aqi_aug_2022_df.show(truncate=False)"
      ],
      "metadata": {
        "colab": {
          "base_uri": "https://localhost:8080/"
        },
        "id": "_-KHuDteFX0o",
        "outputId": "9feb44dd-f2db-46bf-a9a4-3549c083ba71"
      },
      "execution_count": 138,
      "outputs": [
        {
          "output_type": "stream",
          "name": "stdout",
          "text": [
            "+------------------------------+------------------+\n",
            "|status                        |avg_value         |\n",
            "+------------------------------+------------------+\n",
            "|Good                          |27.929097605893187|\n",
            "|Moderate                      |71.38070175438597 |\n",
            "|Unhealthy for Sensitive Groups|122.953125        |\n",
            "|Unhealthy                     |167.9704433497537 |\n",
            "+------------------------------+------------------+\n",
            "\n",
            "time: 557 ms (started: 2023-04-21 00:24:13 +00:00)\n"
          ]
        }
      ]
    },
    {
      "cell_type": "markdown",
      "source": [
        "## Question 3"
      ],
      "metadata": {
        "id": "ctkjy6YiJWJp"
      }
    },
    {
      "cell_type": "code",
      "source": [
        "sc = spark.sparkContext\n",
        "sc"
      ],
      "metadata": {
        "colab": {
          "base_uri": "https://localhost:8080/",
          "height": 213
        },
        "id": "9Sf11lQlEIwY",
        "outputId": "cf5ae72e-61a4-4b91-d51d-5807d23adc3e"
      },
      "execution_count": 80,
      "outputs": [
        {
          "output_type": "execute_result",
          "data": {
            "text/plain": [
              "<SparkContext master=local[*] appName=pyspark-shell>"
            ],
            "text/html": [
              "\n",
              "        <div>\n",
              "            <p><b>SparkContext</b></p>\n",
              "\n",
              "            <p><a href=\"http://9eafe957c520:4040\">Spark UI</a></p>\n",
              "\n",
              "            <dl>\n",
              "              <dt>Version</dt>\n",
              "                <dd><code>v3.4.0</code></dd>\n",
              "              <dt>Master</dt>\n",
              "                <dd><code>local[*]</code></dd>\n",
              "              <dt>AppName</dt>\n",
              "                <dd><code>pyspark-shell</code></dd>\n",
              "            </dl>\n",
              "        </div>\n",
              "        "
            ]
          },
          "metadata": {},
          "execution_count": 80
        },
        {
          "output_type": "stream",
          "name": "stdout",
          "text": [
            "time: 5.04 ms (started: 2023-04-20 23:47:29 +00:00)\n"
          ]
        }
      ]
    },
    {
      "cell_type": "markdown",
      "source": [
        "Convert Spark Dataframe to RDD"
      ],
      "metadata": {
        "id": "cExsbLbZ4HD4"
      }
    },
    {
      "cell_type": "code",
      "source": [
        "country_rdd = country_df.rdd\n",
        "city_rdd = city_df.rdd\n",
        "country_lang_rdd = country_lang_df.rdd\n",
        "\n",
        "aqi_rdd = aqi_df.rdd"
      ],
      "metadata": {
        "colab": {
          "base_uri": "https://localhost:8080/"
        },
        "id": "NPbu8ClC4CHG",
        "outputId": "a2bd91a8-d748-4526-b962-03be65462df0"
      },
      "execution_count": 57,
      "outputs": [
        {
          "output_type": "stream",
          "name": "stdout",
          "text": [
            "time: 718 µs (started: 2023-04-20 23:22:02 +00:00)\n"
          ]
        }
      ]
    },
    {
      "cell_type": "markdown",
      "source": [
        "Sample"
      ],
      "metadata": {
        "id": "S4eSIN0S4eUh"
      }
    },
    {
      "cell_type": "code",
      "source": [
        "aqi_rdd.take(5)"
      ],
      "metadata": {
        "colab": {
          "base_uri": "https://localhost:8080/"
        },
        "id": "RlW2oXJu4gVJ",
        "outputId": "4ce65d85-6a61-410c-e6e6-ff62ce9e8d91"
      },
      "execution_count": 58,
      "outputs": [
        {
          "output_type": "execute_result",
          "data": {
            "text/plain": [
              "[Row(date=datetime.date(2022, 7, 21), country='Albania', status='Good', value=14, year=2022, month=7),\n",
              " Row(date=datetime.date(2022, 7, 21), country='Algeria', status='Moderate', value=65, year=2022, month=7),\n",
              " Row(date=datetime.date(2022, 7, 21), country='Andorra', status='Moderate', value=55, year=2022, month=7),\n",
              " Row(date=datetime.date(2022, 7, 21), country='Angola', status='Unhealthy for Sensitive Groups', value=113, year=2022, month=7),\n",
              " Row(date=datetime.date(2022, 7, 21), country='Argentina', status='Moderate', value=63, year=2022, month=7)]"
            ]
          },
          "metadata": {},
          "execution_count": 58
        },
        {
          "output_type": "stream",
          "name": "stdout",
          "text": [
            "time: 85.9 ms (started: 2023-04-20 23:22:05 +00:00)\n"
          ]
        }
      ]
    },
    {
      "cell_type": "code",
      "source": [
        "country_rdd.take(5)"
      ],
      "metadata": {
        "colab": {
          "base_uri": "https://localhost:8080/"
        },
        "id": "QG2_Nczi7k2o",
        "outputId": "8cd0a22d-33bc-4e4d-aa54-f302b0bf56a8"
      },
      "execution_count": 59,
      "outputs": [
        {
          "output_type": "execute_result",
          "data": {
            "text/plain": [
              "[Row(Capital=129, Code='ABW', Code2='AW', Continent='North America', GNP=828.0, GNPOld=793.0, GovernmentForm='Nonmetropolitan Territory of The Netherlands', HeadOfState='Beatrix', IndepYear=0, LifeExpectancy=78.4, LocalName='Aruba', Name='Aruba', Population=103000, Region='Caribbean', SurfaceArea=193.0),\n",
              " Row(Capital=1, Code='AFG', Code2='AF', Continent='Asia', GNP=5976.0, GNPOld=0.0, GovernmentForm='Islamic Emirate', HeadOfState='Mohammad Omar', IndepYear=1919, LifeExpectancy=45.9, LocalName='Afganistan/Afqanestan', Name='Afghanistan', Population=22720000, Region='Southern and Central Asia', SurfaceArea=652090.0),\n",
              " Row(Capital=56, Code='AGO', Code2='AO', Continent='Africa', GNP=6648.0, GNPOld=7984.0, GovernmentForm='Republic', HeadOfState='JosÃ© Eduardo dos Santos', IndepYear=1975, LifeExpectancy=38.3, LocalName='Angola', Name='Angola', Population=12878000, Region='Central Africa', SurfaceArea=1246700.0),\n",
              " Row(Capital=62, Code='AIA', Code2='AI', Continent='North America', GNP=63.2, GNPOld=0.0, GovernmentForm='Dependent Territory of the UK', HeadOfState='Elisabeth II', IndepYear=0, LifeExpectancy=76.1, LocalName='Anguilla', Name='Anguilla', Population=8000, Region='Caribbean', SurfaceArea=96.0),\n",
              " Row(Capital=34, Code='ALB', Code2='AL', Continent='Europe', GNP=3205.0, GNPOld=2500.0, GovernmentForm='Republic', HeadOfState='Rexhep Mejdani', IndepYear=1912, LifeExpectancy=71.6, LocalName='ShqipÃ«ria', Name='Albania', Population=3401200, Region='Southern Europe', SurfaceArea=28748.0)]"
            ]
          },
          "metadata": {},
          "execution_count": 59
        },
        {
          "output_type": "stream",
          "name": "stdout",
          "text": [
            "time: 96.5 ms (started: 2023-04-20 23:22:07 +00:00)\n"
          ]
        }
      ]
    },
    {
      "cell_type": "markdown",
      "source": [
        "### a.i"
      ],
      "metadata": {
        "id": "O4XMXtThJd91"
      }
    },
    {
      "cell_type": "code",
      "source": [
        "country_key_rdd = country_rdd.map(lambda x: (x[\"Name\"], x)).distinct()\n",
        "\n",
        "aqi_key_rdd = aqi_rdd.map(lambda x: (x[\"country\"], x)).distinct()\n",
        "\n",
        "country_aqi_join_rdd = country_key_rdd.join(aqi_key_rdd).map(lambda x: x[0]).distinct()\n",
        "country_aqi_join_rdd = country_aqi_join_rdd.sortBy(lambda x: x)\n",
        "\n",
        "country_aqi_join_rdd.collect()"
      ],
      "metadata": {
        "id": "7Wj8y7srJYtm",
        "colab": {
          "base_uri": "https://localhost:8080/"
        },
        "outputId": "544db3ea-546b-4363-bdb1-12dff2e0097f"
      },
      "execution_count": 146,
      "outputs": [
        {
          "output_type": "execute_result",
          "data": {
            "text/plain": [
              "['Albania',\n",
              " 'Algeria',\n",
              " 'Andorra',\n",
              " 'Angola',\n",
              " 'Argentina',\n",
              " 'Armenia',\n",
              " 'Australia',\n",
              " 'Austria',\n",
              " 'Azerbaijan',\n",
              " 'Bahrain',\n",
              " 'Bangladesh',\n",
              " 'Belarus',\n",
              " 'Belgium',\n",
              " 'Belize',\n",
              " 'Bermuda',\n",
              " 'Bolivia',\n",
              " 'Bosnia and Herzegovina',\n",
              " 'Brazil',\n",
              " 'Brunei',\n",
              " 'Bulgaria',\n",
              " 'Burkina Faso',\n",
              " 'Cambodia',\n",
              " 'Canada',\n",
              " 'Cape Verde',\n",
              " 'Cayman Islands',\n",
              " 'Central African Republic',\n",
              " 'Chad',\n",
              " 'Chile',\n",
              " 'China',\n",
              " 'Colombia',\n",
              " 'Costa Rica',\n",
              " 'Croatia',\n",
              " 'Cyprus',\n",
              " 'Czech Republic',\n",
              " 'Denmark',\n",
              " 'Dominican Republic',\n",
              " 'Ecuador',\n",
              " 'Egypt',\n",
              " 'El Salvador',\n",
              " 'Estonia',\n",
              " 'Ethiopia',\n",
              " 'Finland',\n",
              " 'France',\n",
              " 'French Guiana',\n",
              " 'Gabon',\n",
              " 'Gambia',\n",
              " 'Georgia',\n",
              " 'Germany',\n",
              " 'Ghana',\n",
              " 'Gibraltar',\n",
              " 'Greece',\n",
              " 'Grenada',\n",
              " 'Guadeloupe',\n",
              " 'Guam',\n",
              " 'Guatemala',\n",
              " 'Honduras',\n",
              " 'Hong Kong',\n",
              " 'Hungary',\n",
              " 'Iceland',\n",
              " 'India',\n",
              " 'Indonesia',\n",
              " 'Iran',\n",
              " 'Iraq',\n",
              " 'Ireland',\n",
              " 'Israel',\n",
              " 'Italy',\n",
              " 'Japan',\n",
              " 'Jordan',\n",
              " 'Kenya',\n",
              " 'Kuwait',\n",
              " 'Kyrgyzstan',\n",
              " 'Laos',\n",
              " 'Latvia',\n",
              " 'Lebanon',\n",
              " 'Liberia',\n",
              " 'Liechtenstein',\n",
              " 'Lithuania',\n",
              " 'Luxembourg',\n",
              " 'Macao',\n",
              " 'Macedonia',\n",
              " 'Madagascar',\n",
              " 'Malaysia',\n",
              " 'Malta',\n",
              " 'Martinique',\n",
              " 'Mexico',\n",
              " 'Moldova',\n",
              " 'Monaco',\n",
              " 'Mongolia',\n",
              " 'Myanmar',\n",
              " 'Nepal',\n",
              " 'Netherlands',\n",
              " 'New Caledonia',\n",
              " 'New Zealand',\n",
              " 'Nigeria',\n",
              " 'Norway',\n",
              " 'Pakistan',\n",
              " 'Peru',\n",
              " 'Philippines',\n",
              " 'Poland',\n",
              " 'Portugal',\n",
              " 'Puerto Rico',\n",
              " 'Qatar',\n",
              " 'Romania',\n",
              " 'San Marino',\n",
              " 'Saudi Arabia',\n",
              " 'Senegal',\n",
              " 'Singapore',\n",
              " 'Slovakia',\n",
              " 'Slovenia',\n",
              " 'South Africa',\n",
              " 'South Korea',\n",
              " 'Spain',\n",
              " 'Sri Lanka',\n",
              " 'Sudan',\n",
              " 'Sweden',\n",
              " 'Switzerland',\n",
              " 'Taiwan',\n",
              " 'Tajikistan',\n",
              " 'Thailand',\n",
              " 'Togo',\n",
              " 'Trinidad and Tobago',\n",
              " 'Turkey',\n",
              " 'Turkmenistan',\n",
              " 'Uganda',\n",
              " 'Ukraine',\n",
              " 'United Arab Emirates',\n",
              " 'Uzbekistan',\n",
              " 'Venezuela',\n",
              " 'Vietnam',\n",
              " 'Zambia']"
            ]
          },
          "metadata": {},
          "execution_count": 146
        },
        {
          "output_type": "stream",
          "name": "stdout",
          "text": [
            "time: 1.84 s (started: 2023-04-21 00:29:47 +00:00)\n"
          ]
        }
      ]
    },
    {
      "cell_type": "code",
      "source": [
        "country_key_rdd = country_rdd.map(lambda x: x[\"Name\"]).distinct()\n",
        "\n",
        "aqi_key_rdd = aqi_rdd.map(lambda x: x[\"country\"]).distinct()\n",
        "\n",
        "country_aqi_join_rdd = country_key_rdd.intersection(aqi_key_rdd).distinct()\n",
        "country_aqi_join_rdd = country_aqi_join_rdd.sortBy(lambda x: x)\n",
        "\n",
        "country_aqi_join_rdd.collect()"
      ],
      "metadata": {
        "id": "R_zXQxUhN7ns",
        "outputId": "7beadc73-2200-4e66-9913-06168479b4eb",
        "colab": {
          "base_uri": "https://localhost:8080/"
        }
      },
      "execution_count": 153,
      "outputs": [
        {
          "output_type": "execute_result",
          "data": {
            "text/plain": [
              "['Albania',\n",
              " 'Algeria',\n",
              " 'Andorra',\n",
              " 'Angola',\n",
              " 'Argentina',\n",
              " 'Armenia',\n",
              " 'Australia',\n",
              " 'Austria',\n",
              " 'Azerbaijan',\n",
              " 'Bahrain',\n",
              " 'Bangladesh',\n",
              " 'Belarus',\n",
              " 'Belgium',\n",
              " 'Belize',\n",
              " 'Bermuda',\n",
              " 'Bolivia',\n",
              " 'Bosnia and Herzegovina',\n",
              " 'Brazil',\n",
              " 'Brunei',\n",
              " 'Bulgaria',\n",
              " 'Burkina Faso',\n",
              " 'Cambodia',\n",
              " 'Canada',\n",
              " 'Cape Verde',\n",
              " 'Cayman Islands',\n",
              " 'Central African Republic',\n",
              " 'Chad',\n",
              " 'Chile',\n",
              " 'China',\n",
              " 'Colombia',\n",
              " 'Costa Rica',\n",
              " 'Croatia',\n",
              " 'Cyprus',\n",
              " 'Czech Republic',\n",
              " 'Denmark',\n",
              " 'Dominican Republic',\n",
              " 'Ecuador',\n",
              " 'Egypt',\n",
              " 'El Salvador',\n",
              " 'Estonia',\n",
              " 'Ethiopia',\n",
              " 'Finland',\n",
              " 'France',\n",
              " 'French Guiana',\n",
              " 'Gabon',\n",
              " 'Gambia',\n",
              " 'Georgia',\n",
              " 'Germany',\n",
              " 'Ghana',\n",
              " 'Gibraltar',\n",
              " 'Greece',\n",
              " 'Grenada',\n",
              " 'Guadeloupe',\n",
              " 'Guam',\n",
              " 'Guatemala',\n",
              " 'Honduras',\n",
              " 'Hong Kong',\n",
              " 'Hungary',\n",
              " 'Iceland',\n",
              " 'India',\n",
              " 'Indonesia',\n",
              " 'Iran',\n",
              " 'Iraq',\n",
              " 'Ireland',\n",
              " 'Israel',\n",
              " 'Italy',\n",
              " 'Japan',\n",
              " 'Jordan',\n",
              " 'Kenya',\n",
              " 'Kuwait',\n",
              " 'Kyrgyzstan',\n",
              " 'Laos',\n",
              " 'Latvia',\n",
              " 'Lebanon',\n",
              " 'Liberia',\n",
              " 'Liechtenstein',\n",
              " 'Lithuania',\n",
              " 'Luxembourg',\n",
              " 'Macao',\n",
              " 'Macedonia',\n",
              " 'Madagascar',\n",
              " 'Malaysia',\n",
              " 'Malta',\n",
              " 'Martinique',\n",
              " 'Mexico',\n",
              " 'Moldova',\n",
              " 'Monaco',\n",
              " 'Mongolia',\n",
              " 'Myanmar',\n",
              " 'Nepal',\n",
              " 'Netherlands',\n",
              " 'New Caledonia',\n",
              " 'New Zealand',\n",
              " 'Nigeria',\n",
              " 'Norway',\n",
              " 'Pakistan',\n",
              " 'Peru',\n",
              " 'Philippines',\n",
              " 'Poland',\n",
              " 'Portugal',\n",
              " 'Puerto Rico',\n",
              " 'Qatar',\n",
              " 'Romania',\n",
              " 'San Marino',\n",
              " 'Saudi Arabia',\n",
              " 'Senegal',\n",
              " 'Singapore',\n",
              " 'Slovakia',\n",
              " 'Slovenia',\n",
              " 'South Africa',\n",
              " 'South Korea',\n",
              " 'Spain',\n",
              " 'Sri Lanka',\n",
              " 'Sudan',\n",
              " 'Sweden',\n",
              " 'Switzerland',\n",
              " 'Taiwan',\n",
              " 'Tajikistan',\n",
              " 'Thailand',\n",
              " 'Togo',\n",
              " 'Trinidad and Tobago',\n",
              " 'Turkey',\n",
              " 'Turkmenistan',\n",
              " 'Uganda',\n",
              " 'Ukraine',\n",
              " 'United Arab Emirates',\n",
              " 'Uzbekistan',\n",
              " 'Venezuela',\n",
              " 'Vietnam',\n",
              " 'Zambia']"
            ]
          },
          "metadata": {},
          "execution_count": 153
        },
        {
          "output_type": "stream",
          "name": "stdout",
          "text": [
            "time: 979 ms (started: 2023-04-21 00:32:24 +00:00)\n"
          ]
        }
      ]
    }
  ]
}