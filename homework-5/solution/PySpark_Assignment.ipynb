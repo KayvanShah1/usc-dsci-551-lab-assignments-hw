{
  "nbformat": 4,
  "nbformat_minor": 0,
  "metadata": {
    "colab": {
      "provenance": [],
      "authorship_tag": "ABX9TyOqOzQp5q8hsAeRMDPRbCgJ",
      "include_colab_link": true
    },
    "kernelspec": {
      "name": "python3",
      "display_name": "Python 3"
    },
    "language_info": {
      "name": "python"
    }
  },
  "cells": [
    {
      "cell_type": "markdown",
      "metadata": {
        "id": "view-in-github",
        "colab_type": "text"
      },
      "source": [
        "<a href=\"https://colab.research.google.com/github/KayvanShah1/usc-dsci-551-lab-assignments-hw/blob/main/homework-5/solution/PySpark_Assignment.ipynb\" target=\"_parent\"><img src=\"https://colab.research.google.com/assets/colab-badge.svg\" alt=\"Open In Colab\"/></a>"
      ]
    },
    {
      "cell_type": "markdown",
      "source": [
        "# Installation"
      ],
      "metadata": {
        "id": "mrrVPrhv2_cG"
      }
    },
    {
      "cell_type": "code",
      "execution_count": 179,
      "metadata": {
        "colab": {
          "base_uri": "https://localhost:8080/"
        },
        "id": "rPqt1SnN27dm",
        "outputId": "9a83270a-4733-4dcd-db5b-181d023e2f30"
      },
      "outputs": [
        {
          "output_type": "stream",
          "name": "stdout",
          "text": [
            "Looking in indexes: https://pypi.org/simple, https://us-python.pkg.dev/colab-wheels/public/simple/\n",
            "Requirement already satisfied: pyspark in /usr/local/lib/python3.9/dist-packages (3.4.0)\n",
            "Requirement already satisfied: py4j==0.10.9.7 in /usr/local/lib/python3.9/dist-packages (from pyspark) (0.10.9.7)\n",
            "Looking in indexes: https://pypi.org/simple, https://us-python.pkg.dev/colab-wheels/public/simple/\n",
            "Requirement already satisfied: ipython-autotime in /usr/local/lib/python3.9/dist-packages (0.3.1)\n",
            "Requirement already satisfied: ipython in /usr/local/lib/python3.9/dist-packages (from ipython-autotime) (7.34.0)\n",
            "Requirement already satisfied: backcall in /usr/local/lib/python3.9/dist-packages (from ipython->ipython-autotime) (0.2.0)\n",
            "Requirement already satisfied: prompt-toolkit!=3.0.0,!=3.0.1,<3.1.0,>=2.0.0 in /usr/local/lib/python3.9/dist-packages (from ipython->ipython-autotime) (3.0.38)\n",
            "Requirement already satisfied: jedi>=0.16 in /usr/local/lib/python3.9/dist-packages (from ipython->ipython-autotime) (0.18.2)\n",
            "Requirement already satisfied: pickleshare in /usr/local/lib/python3.9/dist-packages (from ipython->ipython-autotime) (0.7.5)\n",
            "Requirement already satisfied: setuptools>=18.5 in /usr/local/lib/python3.9/dist-packages (from ipython->ipython-autotime) (67.6.1)\n",
            "Requirement already satisfied: pygments in /usr/local/lib/python3.9/dist-packages (from ipython->ipython-autotime) (2.14.0)\n",
            "Requirement already satisfied: pexpect>4.3 in /usr/local/lib/python3.9/dist-packages (from ipython->ipython-autotime) (4.8.0)\n",
            "Requirement already satisfied: decorator in /usr/local/lib/python3.9/dist-packages (from ipython->ipython-autotime) (4.4.2)\n",
            "Requirement already satisfied: traitlets>=4.2 in /usr/local/lib/python3.9/dist-packages (from ipython->ipython-autotime) (5.7.1)\n",
            "Requirement already satisfied: matplotlib-inline in /usr/local/lib/python3.9/dist-packages (from ipython->ipython-autotime) (0.1.6)\n",
            "Requirement already satisfied: parso<0.9.0,>=0.8.0 in /usr/local/lib/python3.9/dist-packages (from jedi>=0.16->ipython->ipython-autotime) (0.8.3)\n",
            "Requirement already satisfied: ptyprocess>=0.5 in /usr/local/lib/python3.9/dist-packages (from pexpect>4.3->ipython->ipython-autotime) (0.7.0)\n",
            "Requirement already satisfied: wcwidth in /usr/local/lib/python3.9/dist-packages (from prompt-toolkit!=3.0.0,!=3.0.1,<3.1.0,>=2.0.0->ipython->ipython-autotime) (0.2.6)\n",
            "The autotime extension is already loaded. To reload it, use:\n",
            "  %reload_ext autotime\n",
            "time: 9.19 s (started: 2023-04-21 01:13:34 +00:00)\n"
          ]
        }
      ],
      "source": [
        "!pip install pyspark\n",
        "!pip install ipython-autotime\n",
        "%load_ext autotime"
      ]
    },
    {
      "cell_type": "code",
      "source": [
        "%%bash\n",
        "java --version"
      ],
      "metadata": {
        "colab": {
          "base_uri": "https://localhost:8080/"
        },
        "id": "_W8iNUi-3JI5",
        "outputId": "48b2c50a-f433-4a23-ab0e-1f75cfd52e30"
      },
      "execution_count": 180,
      "outputs": [
        {
          "output_type": "stream",
          "name": "stdout",
          "text": [
            "openjdk 11.0.18 2023-01-17\n",
            "OpenJDK Runtime Environment (build 11.0.18+10-post-Ubuntu-0ubuntu120.04.1)\n",
            "OpenJDK 64-Bit Server VM (build 11.0.18+10-post-Ubuntu-0ubuntu120.04.1, mixed mode, sharing)\n",
            "time: 99.8 ms (started: 2023-04-21 01:13:43 +00:00)\n"
          ]
        }
      ]
    },
    {
      "cell_type": "markdown",
      "source": [
        "# Spark Session"
      ],
      "metadata": {
        "id": "6UYUIHwq3RpA"
      }
    },
    {
      "cell_type": "code",
      "source": [
        "# Import SparkSession\n",
        "from pyspark.sql import SparkSession\n",
        "# Create a Spark Session\n",
        "spark = SparkSession.builder.master(\"local[*]\").getOrCreate()\n",
        "# Check Spark Session Information\n",
        "spark"
      ],
      "metadata": {
        "colab": {
          "base_uri": "https://localhost:8080/",
          "height": 237
        },
        "id": "2UAAGls_3T4o",
        "outputId": "5fdf8544-874b-4ead-ed67-e1ca68dd3d4c"
      },
      "execution_count": 181,
      "outputs": [
        {
          "output_type": "execute_result",
          "data": {
            "text/plain": [
              "<pyspark.sql.session.SparkSession at 0x7fbaf91089a0>"
            ],
            "text/html": [
              "\n",
              "            <div>\n",
              "                <p><b>SparkSession - in-memory</b></p>\n",
              "                \n",
              "        <div>\n",
              "            <p><b>SparkContext</b></p>\n",
              "\n",
              "            <p><a href=\"http://9eafe957c520:4040\">Spark UI</a></p>\n",
              "\n",
              "            <dl>\n",
              "              <dt>Version</dt>\n",
              "                <dd><code>v3.4.0</code></dd>\n",
              "              <dt>Master</dt>\n",
              "                <dd><code>local[*]</code></dd>\n",
              "              <dt>AppName</dt>\n",
              "                <dd><code>pyspark-shell</code></dd>\n",
              "            </dl>\n",
              "        </div>\n",
              "        \n",
              "            </div>\n",
              "        "
            ]
          },
          "metadata": {},
          "execution_count": 181
        },
        {
          "output_type": "stream",
          "name": "stdout",
          "text": [
            "time: 10.9 ms (started: 2023-04-21 01:13:43 +00:00)\n"
          ]
        }
      ]
    },
    {
      "cell_type": "code",
      "source": [
        "import pyspark.sql.functions as fc"
      ],
      "metadata": {
        "colab": {
          "base_uri": "https://localhost:8080/"
        },
        "id": "RYzQq56c4kbN",
        "outputId": "0be62c73-211b-4ab1-9159-cae9ce5aa50e"
      },
      "execution_count": 182,
      "outputs": [
        {
          "output_type": "stream",
          "name": "stdout",
          "text": [
            "time: 295 µs (started: 2023-04-21 01:13:43 +00:00)\n"
          ]
        }
      ]
    },
    {
      "cell_type": "markdown",
      "source": [
        "# Assignment Solution"
      ],
      "metadata": {
        "id": "ajllNKjr3777"
      }
    },
    {
      "cell_type": "markdown",
      "source": [
        "Load Data to dataframes"
      ],
      "metadata": {
        "id": "TQI44SZI6DyP"
      }
    },
    {
      "cell_type": "code",
      "source": [
        "country_df = spark.read.json(\"country.json\")\n",
        "city_df = spark.read.json(\"city.json\")\n",
        "country_lang_df = spark.read.json(\"countrylanguage.json\")\n",
        "\n",
        "aqi_df = spark.read.csv(\"aqi.csv\", header=True, inferSchema=True)"
      ],
      "metadata": {
        "colab": {
          "base_uri": "https://localhost:8080/"
        },
        "id": "BxKwP6_p5bc-",
        "outputId": "8c13ba37-6098-4954-cbf7-c8b4314c9b41"
      },
      "execution_count": 183,
      "outputs": [
        {
          "output_type": "stream",
          "name": "stdout",
          "text": [
            "time: 1.16 s (started: 2023-04-21 01:13:43 +00:00)\n"
          ]
        }
      ]
    },
    {
      "cell_type": "markdown",
      "source": [
        "### Sample View"
      ],
      "metadata": {
        "id": "ZrBCCJOL6lU_"
      }
    },
    {
      "cell_type": "code",
      "source": [
        "country_df.show(5)"
      ],
      "metadata": {
        "colab": {
          "base_uri": "https://localhost:8080/"
        },
        "id": "QpecbV4U6n3I",
        "outputId": "dbccf707-fe9b-4a9a-c5e9-33994b00aa33"
      },
      "execution_count": 184,
      "outputs": [
        {
          "output_type": "stream",
          "name": "stdout",
          "text": [
            "+-------+----+-----+-------------+------+------+--------------------+--------------------+---------+--------------+--------------------+-----------+----------+--------------------+-----------+\n",
            "|Capital|Code|Code2|    Continent|   GNP|GNPOld|      GovernmentForm|         HeadOfState|IndepYear|LifeExpectancy|           LocalName|       Name|Population|              Region|SurfaceArea|\n",
            "+-------+----+-----+-------------+------+------+--------------------+--------------------+---------+--------------+--------------------+-----------+----------+--------------------+-----------+\n",
            "|    129| ABW|   AW|North America| 828.0| 793.0|Nonmetropolitan T...|             Beatrix|        0|          78.4|               Aruba|      Aruba|    103000|           Caribbean|      193.0|\n",
            "|      1| AFG|   AF|         Asia|5976.0|   0.0|     Islamic Emirate|       Mohammad Omar|     1919|          45.9|Afganistan/Afqane...|Afghanistan|  22720000|Southern and Cent...|   652090.0|\n",
            "|     56| AGO|   AO|       Africa|6648.0|7984.0|            Republic|JosÃ© Eduardo dos...|     1975|          38.3|              Angola|     Angola|  12878000|      Central Africa|  1246700.0|\n",
            "|     62| AIA|   AI|North America|  63.2|   0.0|Dependent Territo...|        Elisabeth II|        0|          76.1|            Anguilla|   Anguilla|      8000|           Caribbean|       96.0|\n",
            "|     34| ALB|   AL|       Europe|3205.0|2500.0|            Republic|      Rexhep Mejdani|     1912|          71.6|          ShqipÃ«ria|    Albania|   3401200|     Southern Europe|    28748.0|\n",
            "+-------+----+-----+-------------+------+------+--------------------+--------------------+---------+--------------+--------------------+-----------+----------+--------------------+-----------+\n",
            "only showing top 5 rows\n",
            "\n",
            "time: 165 ms (started: 2023-04-21 01:13:44 +00:00)\n"
          ]
        }
      ]
    },
    {
      "cell_type": "code",
      "source": [
        "city_df.show(5)"
      ],
      "metadata": {
        "colab": {
          "base_uri": "https://localhost:8080/"
        },
        "id": "lZ-KmipB6vqX",
        "outputId": "47f90e56-abdf-436b-d43b-86daefb36147"
      },
      "execution_count": 185,
      "outputs": [
        {
          "output_type": "stream",
          "name": "stdout",
          "text": [
            "+-----------+-------------+---+--------------+----------+\n",
            "|CountryCode|     District| ID|          Name|Population|\n",
            "+-----------+-------------+---+--------------+----------+\n",
            "|        AFG|        Kabol|  1|         Kabul|   1780000|\n",
            "|        AFG|     Qandahar|  2|      Qandahar|    237500|\n",
            "|        AFG|        Herat|  3|         Herat|    186800|\n",
            "|        AFG|        Balkh|  4|Mazar-e-Sharif|    127800|\n",
            "|        NLD|Noord-Holland|  5|     Amsterdam|    731200|\n",
            "+-----------+-------------+---+--------------+----------+\n",
            "only showing top 5 rows\n",
            "\n",
            "time: 200 ms (started: 2023-04-21 01:13:44 +00:00)\n"
          ]
        }
      ]
    },
    {
      "cell_type": "code",
      "source": [
        "country_lang_df.show(5)"
      ],
      "metadata": {
        "colab": {
          "base_uri": "https://localhost:8080/"
        },
        "id": "G7400chF6z2f",
        "outputId": "52da363d-b131-46dc-99e4-1b58117fc571"
      },
      "execution_count": 186,
      "outputs": [
        {
          "output_type": "stream",
          "name": "stdout",
          "text": [
            "+-----------+----------+----------+----------+\n",
            "|CountryCode|IsOfficial|  Language|Percentage|\n",
            "+-----------+----------+----------+----------+\n",
            "|        ABW|         T|     Dutch|       5.3|\n",
            "|        ABW|         F|   English|       9.5|\n",
            "|        ABW|         F|Papiamento|      76.7|\n",
            "|        ABW|         F|   Spanish|       7.4|\n",
            "|        AFG|         F|   Balochi|       0.9|\n",
            "+-----------+----------+----------+----------+\n",
            "only showing top 5 rows\n",
            "\n",
            "time: 116 ms (started: 2023-04-21 01:13:45 +00:00)\n"
          ]
        }
      ]
    },
    {
      "cell_type": "code",
      "source": [
        "aqi_df.show(5)"
      ],
      "metadata": {
        "colab": {
          "base_uri": "https://localhost:8080/"
        },
        "id": "emXkCeEK63K5",
        "outputId": "407ebfcb-ccb0-4232-f710-d348d23427de"
      },
      "execution_count": 187,
      "outputs": [
        {
          "output_type": "stream",
          "name": "stdout",
          "text": [
            "+----------+---------+--------------------+-----+\n",
            "|      date|  country|              status|value|\n",
            "+----------+---------+--------------------+-----+\n",
            "|2022-07-21|  Albania|                Good|   14|\n",
            "|2022-07-21|  Algeria|            Moderate|   65|\n",
            "|2022-07-21|  Andorra|            Moderate|   55|\n",
            "|2022-07-21|   Angola|Unhealthy for Sen...|  113|\n",
            "|2022-07-21|Argentina|            Moderate|   63|\n",
            "+----------+---------+--------------------+-----+\n",
            "only showing top 5 rows\n",
            "\n",
            "time: 79.2 ms (started: 2023-04-21 01:13:45 +00:00)\n"
          ]
        }
      ]
    },
    {
      "cell_type": "markdown",
      "source": [
        "## Question 2"
      ],
      "metadata": {
        "id": "cFtGdfrT3_Uf"
      }
    },
    {
      "cell_type": "markdown",
      "source": [
        "### a.i"
      ],
      "metadata": {
        "id": "phM8N5uW4g_3"
      }
    },
    {
      "cell_type": "code",
      "source": [
        "joined_df = aqi_df.join(country_df, aqi_df.country == country_df.Name)\n",
        "joined_df.show(10)"
      ],
      "metadata": {
        "colab": {
          "base_uri": "https://localhost:8080/"
        },
        "id": "iG5DFTlM3esJ",
        "outputId": "6dbc696e-cf1f-4b8e-87d0-2035e9379856"
      },
      "execution_count": 188,
      "outputs": [
        {
          "output_type": "stream",
          "name": "stdout",
          "text": [
            "+----------+----------+--------------------+-----+-------+----+-----+-------------+--------+--------+--------------------+--------------------+---------+--------------+--------------------+----------+----------+--------------------+-----------+\n",
            "|      date|   country|              status|value|Capital|Code|Code2|    Continent|     GNP|  GNPOld|      GovernmentForm|         HeadOfState|IndepYear|LifeExpectancy|           LocalName|      Name|Population|              Region|SurfaceArea|\n",
            "+----------+----------+--------------------+-----+-------+----+-----+-------------+--------+--------+--------------------+--------------------+---------+--------------+--------------------+----------+----------+--------------------+-----------+\n",
            "|2022-07-21|   Albania|                Good|   14|     34| ALB|   AL|       Europe|  3205.0|  2500.0|            Republic|      Rexhep Mejdani|     1912|          71.6|          ShqipÃ«ria|   Albania|   3401200|     Southern Europe|    28748.0|\n",
            "|2022-07-21|   Algeria|            Moderate|   65|     35| DZA|   DZ|       Africa| 49982.0| 46966.0|            Republic|Abdelaziz Bouteflika|     1962|          69.7|Al-JazaÂ’ir/AlgÃ©rie|   Algeria|  31471000|     Northern Africa|  2381741.0|\n",
            "|2022-07-21|   Andorra|            Moderate|   55|     55| AND|   AD|       Europe|  1630.0|     0.0|Parliamentary Cop...|                    |     1278|          83.5|             Andorra|   Andorra|     78000|     Southern Europe|      468.0|\n",
            "|2022-07-21|    Angola|Unhealthy for Sen...|  113|     56| AGO|   AO|       Africa|  6648.0|  7984.0|            Republic|JosÃ© Eduardo dos...|     1975|          38.3|              Angola|    Angola|  12878000|      Central Africa|  1246700.0|\n",
            "|2022-07-21| Argentina|            Moderate|   63|     69| ARG|   AR|South America|340238.0|323310.0|    Federal Republic| Fernando de la RÃºa|     1816|          75.1|           Argentina| Argentina|  37032000|       South America|  2780400.0|\n",
            "|2022-07-21|   Armenia|            Moderate|   76|    126| ARM|   AM|         Asia|  1813.0|  1627.0|            Republic|   Robert KotÂšarjan|     1991|          66.4|            Hajastan|   Armenia|   3520000|         Middle East|    29800.0|\n",
            "|2022-07-21| Australia|            Moderate|   56|    135| AUS|   AU|      Oceania|351182.0|392911.0|Constitutional Mo...|        Elisabeth II|     1901|          79.8|           Australia| Australia|  18886000|Australia and New...|  7741220.0|\n",
            "|2022-07-21|   Austria|                Good|   45|   1523| AUT|   AT|       Europe|211860.0|206025.0|    Federal Republic|      Thomas Klestil|     1918|          77.7|         Ã–sterreich|   Austria|   8091800|      Western Europe|    83859.0|\n",
            "|2022-07-21|Azerbaijan|                Good|   12|    144| AZE|   AZ|         Asia|  4127.0|  4100.0|    Federal Republic|     HeydÃ¤r Ã„liyev|     1991|          62.9|         AzÃ¤rbaycan|Azerbaijan|   7734000|         Middle East|    86600.0|\n",
            "|2022-07-21|   Bahrain|           Unhealthy|  165|    149| BHR|   BH|         Asia|  6366.0|  6097.0|  Monarchy (Emirate)|Hamad ibn Isa al-...|     1971|          73.0|          Al-Bahrayn|   Bahrain|    617000|         Middle East|      694.0|\n",
            "+----------+----------+--------------------+-----+-------+----+-----+-------------+--------+--------+--------------------+--------------------+---------+--------------+--------------------+----------+----------+--------------------+-----------+\n",
            "only showing top 10 rows\n",
            "\n",
            "time: 392 ms (started: 2023-04-21 01:13:45 +00:00)\n"
          ]
        }
      ]
    },
    {
      "cell_type": "code",
      "source": [
        "result_df = joined_df.select(\"Name\").distinct().sort(\"Name\")\n",
        "result_df.show(truncate=False)"
      ],
      "metadata": {
        "colab": {
          "base_uri": "https://localhost:8080/"
        },
        "id": "PNL2i7WM77_g",
        "outputId": "5722cd71-5fa8-4867-88da-a81eac458c0f"
      },
      "execution_count": 189,
      "outputs": [
        {
          "output_type": "stream",
          "name": "stdout",
          "text": [
            "+----------------------+\n",
            "|Name                  |\n",
            "+----------------------+\n",
            "|Albania               |\n",
            "|Algeria               |\n",
            "|Andorra               |\n",
            "|Angola                |\n",
            "|Argentina             |\n",
            "|Armenia               |\n",
            "|Australia             |\n",
            "|Austria               |\n",
            "|Azerbaijan            |\n",
            "|Bahrain               |\n",
            "|Bangladesh            |\n",
            "|Belarus               |\n",
            "|Belgium               |\n",
            "|Belize                |\n",
            "|Bermuda               |\n",
            "|Bolivia               |\n",
            "|Bosnia and Herzegovina|\n",
            "|Brazil                |\n",
            "|Brunei                |\n",
            "|Bulgaria              |\n",
            "+----------------------+\n",
            "only showing top 20 rows\n",
            "\n",
            "time: 519 ms (started: 2023-04-21 01:13:45 +00:00)\n"
          ]
        }
      ]
    },
    {
      "cell_type": "markdown",
      "source": [
        "### a.ii"
      ],
      "metadata": {
        "id": "R80KvS5X90PU"
      }
    },
    {
      "cell_type": "code",
      "source": [
        "country_set = country_df.select(\"Name\").distinct()\n",
        "aqi_set = aqi_df.select(\"country\").distinct()\n",
        "\n",
        "result_set = country_set.intersect(aqi_set).sort(\"Name\")\n",
        "\n",
        "result_set.show(truncate=False)"
      ],
      "metadata": {
        "colab": {
          "base_uri": "https://localhost:8080/"
        },
        "id": "nU-5KYVX91Pq",
        "outputId": "2399fdd9-b5c2-472f-8e86-afe430fd017d"
      },
      "execution_count": 190,
      "outputs": [
        {
          "output_type": "stream",
          "name": "stdout",
          "text": [
            "+----------------------+\n",
            "|Name                  |\n",
            "+----------------------+\n",
            "|Albania               |\n",
            "|Algeria               |\n",
            "|Andorra               |\n",
            "|Angola                |\n",
            "|Argentina             |\n",
            "|Armenia               |\n",
            "|Australia             |\n",
            "|Austria               |\n",
            "|Azerbaijan            |\n",
            "|Bahrain               |\n",
            "|Bangladesh            |\n",
            "|Belarus               |\n",
            "|Belgium               |\n",
            "|Belize                |\n",
            "|Bermuda               |\n",
            "|Bolivia               |\n",
            "|Bosnia and Herzegovina|\n",
            "|Brazil                |\n",
            "|Brunei                |\n",
            "|Bulgaria              |\n",
            "+----------------------+\n",
            "only showing top 20 rows\n",
            "\n",
            "time: 752 ms (started: 2023-04-21 01:13:46 +00:00)\n"
          ]
        }
      ]
    },
    {
      "cell_type": "markdown",
      "source": [
        "### b.i"
      ],
      "metadata": {
        "id": "Yx9jkyA--Gdh"
      }
    },
    {
      "cell_type": "code",
      "source": [
        "joined_df = aqi_df.join(country_df, aqi_df.country == country_df.Name, \"left_anti\")\n",
        "\n",
        "result_df = joined_df.select(\"country\").distinct().sort(\"country\")\n",
        "result_df.show(truncate=False)"
      ],
      "metadata": {
        "colab": {
          "base_uri": "https://localhost:8080/"
        },
        "id": "n6KlGB7F-Ivh",
        "outputId": "6788dda0-a7b8-49f9-8b51-2151ace79a78"
      },
      "execution_count": 191,
      "outputs": [
        {
          "output_type": "stream",
          "name": "stdout",
          "text": [
            "+----------------------------------------------------+\n",
            "|country                                             |\n",
            "+----------------------------------------------------+\n",
            "|Ivory Coast                                         |\n",
            "|Jersey                                              |\n",
            "|Kazakhstan                                          |\n",
            "|Kosovo                                              |\n",
            "|Montenegro                                          |\n",
            "|Palestinian Territory                               |\n",
            "|Reunion                                             |\n",
            "|Russia                                              |\n",
            "|Serbia                                              |\n",
            "|United Kingdom of Great Britain and Northern Ireland|\n",
            "|United States of America                            |\n",
            "|Vatican                                             |\n",
            "+----------------------------------------------------+\n",
            "\n",
            "time: 443 ms (started: 2023-04-21 01:13:47 +00:00)\n"
          ]
        }
      ]
    },
    {
      "cell_type": "markdown",
      "source": [
        "### b.ii"
      ],
      "metadata": {
        "id": "hygAWpPID26n"
      }
    },
    {
      "cell_type": "code",
      "source": [
        "country_set = country_df.select(\"Name\").distinct()\n",
        "aqi_set = aqi_df.select(\"country\").distinct()\n",
        "\n",
        "result_set = aqi_set.subtract(country_set).sort(\"country\")\n",
        "\n",
        "result_set.show(truncate=False)"
      ],
      "metadata": {
        "colab": {
          "base_uri": "https://localhost:8080/"
        },
        "id": "vtVVur8FD5IK",
        "outputId": "2c1430c4-6093-4662-c41c-ef36fedc8ed7"
      },
      "execution_count": 192,
      "outputs": [
        {
          "output_type": "stream",
          "name": "stdout",
          "text": [
            "+----------------------------------------------------+\n",
            "|country                                             |\n",
            "+----------------------------------------------------+\n",
            "|Ivory Coast                                         |\n",
            "|Jersey                                              |\n",
            "|Kazakhstan                                          |\n",
            "|Kosovo                                              |\n",
            "|Montenegro                                          |\n",
            "|Palestinian Territory                               |\n",
            "|Reunion                                             |\n",
            "|Russia                                              |\n",
            "|Serbia                                              |\n",
            "|United Kingdom of Great Britain and Northern Ireland|\n",
            "|United States of America                            |\n",
            "|Vatican                                             |\n",
            "+----------------------------------------------------+\n",
            "\n",
            "time: 528 ms (started: 2023-04-21 01:13:47 +00:00)\n"
          ]
        }
      ]
    },
    {
      "cell_type": "markdown",
      "source": [
        "### c.i"
      ],
      "metadata": {
        "id": "9IO8tF3qEZ6B"
      }
    },
    {
      "cell_type": "code",
      "source": [
        "joined_df = country_df.join(aqi_df, aqi_df.country == country_df.Name, \"left_anti\")\n",
        "\n",
        "result_df = joined_df.select(\"Name\").distinct().sort(\"Name\")\n",
        "result_df.show(truncate=False)"
      ],
      "metadata": {
        "colab": {
          "base_uri": "https://localhost:8080/"
        },
        "id": "gubS6oHtEf2e",
        "outputId": "cb579651-b385-45d4-8063-6fba642ed9ca"
      },
      "execution_count": 193,
      "outputs": [
        {
          "output_type": "stream",
          "name": "stdout",
          "text": [
            "+-------------------------------------+\n",
            "|Name                                 |\n",
            "+-------------------------------------+\n",
            "|Afghanistan                          |\n",
            "|American Samoa                       |\n",
            "|Anguilla                             |\n",
            "|Antarctica                           |\n",
            "|Antigua and Barbuda                  |\n",
            "|Aruba                                |\n",
            "|Bahamas                              |\n",
            "|Barbados                             |\n",
            "|Benin                                |\n",
            "|Bhutan                               |\n",
            "|Botswana                             |\n",
            "|Bouvet Island                        |\n",
            "|British Indian Ocean Territory       |\n",
            "|Burundi                              |\n",
            "|Cameroon                             |\n",
            "|Christmas Island                     |\n",
            "|Cocos (Keeling) Islands              |\n",
            "|Comoros                              |\n",
            "|Congo                                |\n",
            "|Congo, The Democratic Republic of the|\n",
            "+-------------------------------------+\n",
            "only showing top 20 rows\n",
            "\n",
            "time: 638 ms (started: 2023-04-21 01:13:48 +00:00)\n"
          ]
        }
      ]
    },
    {
      "cell_type": "markdown",
      "source": [
        "### c.ii"
      ],
      "metadata": {
        "id": "3LzqpXYhEcwJ"
      }
    },
    {
      "cell_type": "code",
      "source": [
        "country_set = country_df.select(\"Name\").distinct()\n",
        "aqi_set = aqi_df.select(\"country\").distinct()\n",
        "\n",
        "result_set = country_set.subtract(aqi_set).sort(\"Name\")\n",
        "\n",
        "result_set.show(truncate=False)"
      ],
      "metadata": {
        "colab": {
          "base_uri": "https://localhost:8080/"
        },
        "id": "e1457uwDFESL",
        "outputId": "fa79581e-361b-4f63-d11a-4af9aa41cac3"
      },
      "execution_count": 194,
      "outputs": [
        {
          "output_type": "stream",
          "name": "stdout",
          "text": [
            "+-------------------------------------+\n",
            "|Name                                 |\n",
            "+-------------------------------------+\n",
            "|Afghanistan                          |\n",
            "|American Samoa                       |\n",
            "|Anguilla                             |\n",
            "|Antarctica                           |\n",
            "|Antigua and Barbuda                  |\n",
            "|Aruba                                |\n",
            "|Bahamas                              |\n",
            "|Barbados                             |\n",
            "|Benin                                |\n",
            "|Bhutan                               |\n",
            "|Botswana                             |\n",
            "|Bouvet Island                        |\n",
            "|British Indian Ocean Territory       |\n",
            "|Burundi                              |\n",
            "|Cameroon                             |\n",
            "|Christmas Island                     |\n",
            "|Cocos (Keeling) Islands              |\n",
            "|Comoros                              |\n",
            "|Congo                                |\n",
            "|Congo, The Democratic Republic of the|\n",
            "+-------------------------------------+\n",
            "only showing top 20 rows\n",
            "\n",
            "time: 642 ms (started: 2023-04-21 01:13:48 +00:00)\n"
          ]
        }
      ]
    },
    {
      "cell_type": "markdown",
      "source": [
        "### d"
      ],
      "metadata": {
        "id": "T7Cm20bEFMDO"
      }
    },
    {
      "cell_type": "code",
      "source": [
        "aqi_df = aqi_df.withColumn('year', fc.year('date'))\n",
        "aqi_df = aqi_df.withColumn('month', fc.month('date'))\n",
        "\n",
        "aqi_aug_2022_df = aqi_df.filter(\n",
        "    (aqi_df['year'] == 2022) & (aqi_df['month'] == 8)\n",
        ")\n",
        "\n",
        "aqi_aug_2022_df = aqi_aug_2022_df.groupBy('status')\n",
        "\n",
        "aqi_aug_2022_df = aqi_aug_2022_df.agg(fc.avg('value').alias('avg_value'))\n",
        "\n",
        "aqi_aug_2022_df = aqi_aug_2022_df.filter(fc.count('value') >= 100)\n",
        "aqi_aug_2022_df = aqi_aug_2022_df.sort(\"avg_value\")\n",
        "aqi_aug_2022_df.show(truncate=False)"
      ],
      "metadata": {
        "colab": {
          "base_uri": "https://localhost:8080/"
        },
        "id": "_-KHuDteFX0o",
        "outputId": "77bb2c9e-a712-4d11-fd38-10723bc9c07b"
      },
      "execution_count": 195,
      "outputs": [
        {
          "output_type": "stream",
          "name": "stdout",
          "text": [
            "+------------------------------+------------------+\n",
            "|status                        |avg_value         |\n",
            "+------------------------------+------------------+\n",
            "|Good                          |27.929097605893187|\n",
            "|Moderate                      |71.38070175438597 |\n",
            "|Unhealthy for Sensitive Groups|122.953125        |\n",
            "|Unhealthy                     |167.9704433497537 |\n",
            "+------------------------------+------------------+\n",
            "\n",
            "time: 586 ms (started: 2023-04-21 01:13:49 +00:00)\n"
          ]
        }
      ]
    },
    {
      "cell_type": "markdown",
      "source": [
        "## Question 3"
      ],
      "metadata": {
        "id": "ctkjy6YiJWJp"
      }
    },
    {
      "cell_type": "markdown",
      "source": [
        "Convert Spark Dataframe to RDD"
      ],
      "metadata": {
        "id": "cExsbLbZ4HD4"
      }
    },
    {
      "cell_type": "code",
      "source": [
        "country_rdd = country_df.rdd\n",
        "city_rdd = city_df.rdd\n",
        "country_lang_rdd = country_lang_df.rdd\n",
        "\n",
        "aqi_rdd = aqi_df.rdd"
      ],
      "metadata": {
        "colab": {
          "base_uri": "https://localhost:8080/"
        },
        "id": "NPbu8ClC4CHG",
        "outputId": "4f2a3622-0abf-43f9-8a40-ba019157811e"
      },
      "execution_count": 196,
      "outputs": [
        {
          "output_type": "stream",
          "name": "stdout",
          "text": [
            "time: 188 ms (started: 2023-04-21 01:13:50 +00:00)\n"
          ]
        }
      ]
    },
    {
      "cell_type": "markdown",
      "source": [
        "### Sample View"
      ],
      "metadata": {
        "id": "S4eSIN0S4eUh"
      }
    },
    {
      "cell_type": "code",
      "source": [
        "aqi_rdd.take(5)"
      ],
      "metadata": {
        "colab": {
          "base_uri": "https://localhost:8080/"
        },
        "id": "RlW2oXJu4gVJ",
        "outputId": "4793a465-5c4e-4fa5-f13e-c2f84c09aa52"
      },
      "execution_count": 197,
      "outputs": [
        {
          "output_type": "execute_result",
          "data": {
            "text/plain": [
              "[Row(date=datetime.date(2022, 7, 21), country='Albania', status='Good', value=14, year=2022, month=7),\n",
              " Row(date=datetime.date(2022, 7, 21), country='Algeria', status='Moderate', value=65, year=2022, month=7),\n",
              " Row(date=datetime.date(2022, 7, 21), country='Andorra', status='Moderate', value=55, year=2022, month=7),\n",
              " Row(date=datetime.date(2022, 7, 21), country='Angola', status='Unhealthy for Sensitive Groups', value=113, year=2022, month=7),\n",
              " Row(date=datetime.date(2022, 7, 21), country='Argentina', status='Moderate', value=63, year=2022, month=7)]"
            ]
          },
          "metadata": {},
          "execution_count": 197
        },
        {
          "output_type": "stream",
          "name": "stdout",
          "text": [
            "time: 174 ms (started: 2023-04-21 01:13:50 +00:00)\n"
          ]
        }
      ]
    },
    {
      "cell_type": "code",
      "source": [
        "country_rdd.take(5)"
      ],
      "metadata": {
        "colab": {
          "base_uri": "https://localhost:8080/"
        },
        "id": "QG2_Nczi7k2o",
        "outputId": "7275d8d7-5b59-4fb4-895f-30da2d2aa460"
      },
      "execution_count": 198,
      "outputs": [
        {
          "output_type": "execute_result",
          "data": {
            "text/plain": [
              "[Row(Capital=129, Code='ABW', Code2='AW', Continent='North America', GNP=828.0, GNPOld=793.0, GovernmentForm='Nonmetropolitan Territory of The Netherlands', HeadOfState='Beatrix', IndepYear=0, LifeExpectancy=78.4, LocalName='Aruba', Name='Aruba', Population=103000, Region='Caribbean', SurfaceArea=193.0),\n",
              " Row(Capital=1, Code='AFG', Code2='AF', Continent='Asia', GNP=5976.0, GNPOld=0.0, GovernmentForm='Islamic Emirate', HeadOfState='Mohammad Omar', IndepYear=1919, LifeExpectancy=45.9, LocalName='Afganistan/Afqanestan', Name='Afghanistan', Population=22720000, Region='Southern and Central Asia', SurfaceArea=652090.0),\n",
              " Row(Capital=56, Code='AGO', Code2='AO', Continent='Africa', GNP=6648.0, GNPOld=7984.0, GovernmentForm='Republic', HeadOfState='JosÃ© Eduardo dos Santos', IndepYear=1975, LifeExpectancy=38.3, LocalName='Angola', Name='Angola', Population=12878000, Region='Central Africa', SurfaceArea=1246700.0),\n",
              " Row(Capital=62, Code='AIA', Code2='AI', Continent='North America', GNP=63.2, GNPOld=0.0, GovernmentForm='Dependent Territory of the UK', HeadOfState='Elisabeth II', IndepYear=0, LifeExpectancy=76.1, LocalName='Anguilla', Name='Anguilla', Population=8000, Region='Caribbean', SurfaceArea=96.0),\n",
              " Row(Capital=34, Code='ALB', Code2='AL', Continent='Europe', GNP=3205.0, GNPOld=2500.0, GovernmentForm='Republic', HeadOfState='Rexhep Mejdani', IndepYear=1912, LifeExpectancy=71.6, LocalName='ShqipÃ«ria', Name='Albania', Population=3401200, Region='Southern Europe', SurfaceArea=28748.0)]"
            ]
          },
          "metadata": {},
          "execution_count": 198
        },
        {
          "output_type": "stream",
          "name": "stdout",
          "text": [
            "time: 92.3 ms (started: 2023-04-21 01:13:50 +00:00)\n"
          ]
        }
      ]
    },
    {
      "cell_type": "markdown",
      "source": [
        "### a.i"
      ],
      "metadata": {
        "id": "O4XMXtThJd91"
      }
    },
    {
      "cell_type": "code",
      "source": [
        "country_key_rdd = country_rdd.map(lambda x: (x[\"Name\"], x)).distinct()\n",
        "\n",
        "aqi_key_rdd = aqi_rdd.map(lambda x: (x[\"country\"], x)).distinct()\n",
        "\n",
        "country_aqi_join_rdd = country_key_rdd.join(aqi_key_rdd).map(lambda x: x[0]).distinct()\n",
        "country_aqi_join_rdd = country_aqi_join_rdd.sortBy(lambda x: x)\n",
        "\n",
        "country_aqi_join_rdd.collect()"
      ],
      "metadata": {
        "id": "7Wj8y7srJYtm",
        "colab": {
          "base_uri": "https://localhost:8080/"
        },
        "outputId": "8ffd0332-89c3-48bb-dda7-da46fdb4faa6"
      },
      "execution_count": 199,
      "outputs": [
        {
          "output_type": "execute_result",
          "data": {
            "text/plain": [
              "['Albania',\n",
              " 'Algeria',\n",
              " 'Andorra',\n",
              " 'Angola',\n",
              " 'Argentina',\n",
              " 'Armenia',\n",
              " 'Australia',\n",
              " 'Austria',\n",
              " 'Azerbaijan',\n",
              " 'Bahrain',\n",
              " 'Bangladesh',\n",
              " 'Belarus',\n",
              " 'Belgium',\n",
              " 'Belize',\n",
              " 'Bermuda',\n",
              " 'Bolivia',\n",
              " 'Bosnia and Herzegovina',\n",
              " 'Brazil',\n",
              " 'Brunei',\n",
              " 'Bulgaria',\n",
              " 'Burkina Faso',\n",
              " 'Cambodia',\n",
              " 'Canada',\n",
              " 'Cape Verde',\n",
              " 'Cayman Islands',\n",
              " 'Central African Republic',\n",
              " 'Chad',\n",
              " 'Chile',\n",
              " 'China',\n",
              " 'Colombia',\n",
              " 'Costa Rica',\n",
              " 'Croatia',\n",
              " 'Cyprus',\n",
              " 'Czech Republic',\n",
              " 'Denmark',\n",
              " 'Dominican Republic',\n",
              " 'Ecuador',\n",
              " 'Egypt',\n",
              " 'El Salvador',\n",
              " 'Estonia',\n",
              " 'Ethiopia',\n",
              " 'Finland',\n",
              " 'France',\n",
              " 'French Guiana',\n",
              " 'Gabon',\n",
              " 'Gambia',\n",
              " 'Georgia',\n",
              " 'Germany',\n",
              " 'Ghana',\n",
              " 'Gibraltar',\n",
              " 'Greece',\n",
              " 'Grenada',\n",
              " 'Guadeloupe',\n",
              " 'Guam',\n",
              " 'Guatemala',\n",
              " 'Honduras',\n",
              " 'Hong Kong',\n",
              " 'Hungary',\n",
              " 'Iceland',\n",
              " 'India',\n",
              " 'Indonesia',\n",
              " 'Iran',\n",
              " 'Iraq',\n",
              " 'Ireland',\n",
              " 'Israel',\n",
              " 'Italy',\n",
              " 'Japan',\n",
              " 'Jordan',\n",
              " 'Kenya',\n",
              " 'Kuwait',\n",
              " 'Kyrgyzstan',\n",
              " 'Laos',\n",
              " 'Latvia',\n",
              " 'Lebanon',\n",
              " 'Liberia',\n",
              " 'Liechtenstein',\n",
              " 'Lithuania',\n",
              " 'Luxembourg',\n",
              " 'Macao',\n",
              " 'Macedonia',\n",
              " 'Madagascar',\n",
              " 'Malaysia',\n",
              " 'Malta',\n",
              " 'Martinique',\n",
              " 'Mexico',\n",
              " 'Moldova',\n",
              " 'Monaco',\n",
              " 'Mongolia',\n",
              " 'Myanmar',\n",
              " 'Nepal',\n",
              " 'Netherlands',\n",
              " 'New Caledonia',\n",
              " 'New Zealand',\n",
              " 'Nigeria',\n",
              " 'Norway',\n",
              " 'Pakistan',\n",
              " 'Peru',\n",
              " 'Philippines',\n",
              " 'Poland',\n",
              " 'Portugal',\n",
              " 'Puerto Rico',\n",
              " 'Qatar',\n",
              " 'Romania',\n",
              " 'San Marino',\n",
              " 'Saudi Arabia',\n",
              " 'Senegal',\n",
              " 'Singapore',\n",
              " 'Slovakia',\n",
              " 'Slovenia',\n",
              " 'South Africa',\n",
              " 'South Korea',\n",
              " 'Spain',\n",
              " 'Sri Lanka',\n",
              " 'Sudan',\n",
              " 'Sweden',\n",
              " 'Switzerland',\n",
              " 'Taiwan',\n",
              " 'Tajikistan',\n",
              " 'Thailand',\n",
              " 'Togo',\n",
              " 'Trinidad and Tobago',\n",
              " 'Turkey',\n",
              " 'Turkmenistan',\n",
              " 'Uganda',\n",
              " 'Ukraine',\n",
              " 'United Arab Emirates',\n",
              " 'Uzbekistan',\n",
              " 'Venezuela',\n",
              " 'Vietnam',\n",
              " 'Zambia']"
            ]
          },
          "metadata": {},
          "execution_count": 199
        },
        {
          "output_type": "stream",
          "name": "stdout",
          "text": [
            "time: 2.31 s (started: 2023-04-21 01:13:50 +00:00)\n"
          ]
        }
      ]
    },
    {
      "cell_type": "markdown",
      "source": [
        "### a.ii"
      ],
      "metadata": {
        "id": "_fBRH1o6ZxYc"
      }
    },
    {
      "cell_type": "code",
      "source": [
        "country_key_rdd = country_rdd.map(lambda x: x[\"Name\"]).distinct()\n",
        "\n",
        "aqi_key_rdd = aqi_rdd.map(lambda x: x[\"country\"]).distinct()\n",
        "\n",
        "country_aqi_join_rdd = country_key_rdd.intersection(aqi_key_rdd).distinct()\n",
        "country_aqi_join_rdd = country_aqi_join_rdd.sortBy(lambda x: x)\n",
        "\n",
        "country_aqi_join_rdd.collect()"
      ],
      "metadata": {
        "colab": {
          "base_uri": "https://localhost:8080/"
        },
        "id": "R_zXQxUhN7ns",
        "outputId": "016d358e-9942-4f53-9777-94985aefdb63"
      },
      "execution_count": 200,
      "outputs": [
        {
          "output_type": "execute_result",
          "data": {
            "text/plain": [
              "['Albania',\n",
              " 'Algeria',\n",
              " 'Andorra',\n",
              " 'Angola',\n",
              " 'Argentina',\n",
              " 'Armenia',\n",
              " 'Australia',\n",
              " 'Austria',\n",
              " 'Azerbaijan',\n",
              " 'Bahrain',\n",
              " 'Bangladesh',\n",
              " 'Belarus',\n",
              " 'Belgium',\n",
              " 'Belize',\n",
              " 'Bermuda',\n",
              " 'Bolivia',\n",
              " 'Bosnia and Herzegovina',\n",
              " 'Brazil',\n",
              " 'Brunei',\n",
              " 'Bulgaria',\n",
              " 'Burkina Faso',\n",
              " 'Cambodia',\n",
              " 'Canada',\n",
              " 'Cape Verde',\n",
              " 'Cayman Islands',\n",
              " 'Central African Republic',\n",
              " 'Chad',\n",
              " 'Chile',\n",
              " 'China',\n",
              " 'Colombia',\n",
              " 'Costa Rica',\n",
              " 'Croatia',\n",
              " 'Cyprus',\n",
              " 'Czech Republic',\n",
              " 'Denmark',\n",
              " 'Dominican Republic',\n",
              " 'Ecuador',\n",
              " 'Egypt',\n",
              " 'El Salvador',\n",
              " 'Estonia',\n",
              " 'Ethiopia',\n",
              " 'Finland',\n",
              " 'France',\n",
              " 'French Guiana',\n",
              " 'Gabon',\n",
              " 'Gambia',\n",
              " 'Georgia',\n",
              " 'Germany',\n",
              " 'Ghana',\n",
              " 'Gibraltar',\n",
              " 'Greece',\n",
              " 'Grenada',\n",
              " 'Guadeloupe',\n",
              " 'Guam',\n",
              " 'Guatemala',\n",
              " 'Honduras',\n",
              " 'Hong Kong',\n",
              " 'Hungary',\n",
              " 'Iceland',\n",
              " 'India',\n",
              " 'Indonesia',\n",
              " 'Iran',\n",
              " 'Iraq',\n",
              " 'Ireland',\n",
              " 'Israel',\n",
              " 'Italy',\n",
              " 'Japan',\n",
              " 'Jordan',\n",
              " 'Kenya',\n",
              " 'Kuwait',\n",
              " 'Kyrgyzstan',\n",
              " 'Laos',\n",
              " 'Latvia',\n",
              " 'Lebanon',\n",
              " 'Liberia',\n",
              " 'Liechtenstein',\n",
              " 'Lithuania',\n",
              " 'Luxembourg',\n",
              " 'Macao',\n",
              " 'Macedonia',\n",
              " 'Madagascar',\n",
              " 'Malaysia',\n",
              " 'Malta',\n",
              " 'Martinique',\n",
              " 'Mexico',\n",
              " 'Moldova',\n",
              " 'Monaco',\n",
              " 'Mongolia',\n",
              " 'Myanmar',\n",
              " 'Nepal',\n",
              " 'Netherlands',\n",
              " 'New Caledonia',\n",
              " 'New Zealand',\n",
              " 'Nigeria',\n",
              " 'Norway',\n",
              " 'Pakistan',\n",
              " 'Peru',\n",
              " 'Philippines',\n",
              " 'Poland',\n",
              " 'Portugal',\n",
              " 'Puerto Rico',\n",
              " 'Qatar',\n",
              " 'Romania',\n",
              " 'San Marino',\n",
              " 'Saudi Arabia',\n",
              " 'Senegal',\n",
              " 'Singapore',\n",
              " 'Slovakia',\n",
              " 'Slovenia',\n",
              " 'South Africa',\n",
              " 'South Korea',\n",
              " 'Spain',\n",
              " 'Sri Lanka',\n",
              " 'Sudan',\n",
              " 'Sweden',\n",
              " 'Switzerland',\n",
              " 'Taiwan',\n",
              " 'Tajikistan',\n",
              " 'Thailand',\n",
              " 'Togo',\n",
              " 'Trinidad and Tobago',\n",
              " 'Turkey',\n",
              " 'Turkmenistan',\n",
              " 'Uganda',\n",
              " 'Ukraine',\n",
              " 'United Arab Emirates',\n",
              " 'Uzbekistan',\n",
              " 'Venezuela',\n",
              " 'Vietnam',\n",
              " 'Zambia']"
            ]
          },
          "metadata": {},
          "execution_count": 200
        },
        {
          "output_type": "stream",
          "name": "stdout",
          "text": [
            "time: 1.29 s (started: 2023-04-21 01:13:52 +00:00)\n"
          ]
        }
      ]
    },
    {
      "cell_type": "markdown",
      "source": [
        "### b.i"
      ],
      "metadata": {
        "id": "gSGmNXXaPSAo"
      }
    },
    {
      "cell_type": "code",
      "source": [
        "country_key_rdd = country_rdd.map(lambda x: (x[\"Name\"], x)).distinct()\n",
        "\n",
        "aqi_key_rdd = aqi_rdd.map(lambda x: (x[\"country\"], x)).distinct()\n",
        "\n",
        "aqi_country_join_rdd = aqi_key_rdd.leftOuterJoin(country_key_rdd).filter(lambda x: x[1][1] is None)\n",
        "aqi_country_join_rdd = aqi_country_join_rdd.map(lambda x: x[0]).distinct()\n",
        "aqi_country_join_rdd = aqi_country_join_rdd.sortBy(lambda x: x)\n",
        "\n",
        "aqi_country_join_rdd.collect()"
      ],
      "metadata": {
        "id": "W2GqktflPW2W",
        "outputId": "211f5c56-d7b8-47dd-cfc0-95dfcf005b32",
        "colab": {
          "base_uri": "https://localhost:8080/"
        }
      },
      "execution_count": 224,
      "outputs": [
        {
          "output_type": "execute_result",
          "data": {
            "text/plain": [
              "['Ivory Coast',\n",
              " 'Jersey',\n",
              " 'Kazakhstan',\n",
              " 'Kosovo',\n",
              " 'Montenegro',\n",
              " 'Palestinian Territory',\n",
              " 'Reunion',\n",
              " 'Russia',\n",
              " 'Serbia',\n",
              " 'United Kingdom of Great Britain and Northern Ireland',\n",
              " 'United States of America',\n",
              " 'Vatican']"
            ]
          },
          "metadata": {},
          "execution_count": 224
        },
        {
          "output_type": "stream",
          "name": "stdout",
          "text": [
            "time: 1.94 s (started: 2023-04-21 01:33:39 +00:00)\n"
          ]
        }
      ]
    },
    {
      "cell_type": "markdown",
      "source": [
        "### b.ii"
      ],
      "metadata": {
        "id": "EQCqwQvOPUWa"
      }
    },
    {
      "cell_type": "code",
      "source": [
        "country_key_rdd = country_rdd.map(lambda x: x[\"Name\"]).distinct()\n",
        "\n",
        "aqi_key_rdd = aqi_rdd.map(lambda x: x[\"country\"]).distinct()\n",
        "\n",
        "country_aqi_set_rdd = aqi_key_rdd.subtract(country_key_rdd).distinct()\n",
        "country_aqi_set_rdd = country_aqi_set_rdd.sortBy(lambda x: x)\n",
        "\n",
        "country_aqi_set_rdd.collect()"
      ],
      "metadata": {
        "id": "QvWG4yzHWmHX",
        "outputId": "054ccd4e-c308-4c86-a7da-994df453dae8",
        "colab": {
          "base_uri": "https://localhost:8080/"
        }
      },
      "execution_count": 204,
      "outputs": [
        {
          "output_type": "execute_result",
          "data": {
            "text/plain": [
              "['Ivory Coast',\n",
              " 'Jersey',\n",
              " 'Kazakhstan',\n",
              " 'Kosovo',\n",
              " 'Montenegro',\n",
              " 'Palestinian Territory',\n",
              " 'Reunion',\n",
              " 'Russia',\n",
              " 'Serbia',\n",
              " 'United Kingdom of Great Britain and Northern Ireland',\n",
              " 'United States of America',\n",
              " 'Vatican']"
            ]
          },
          "metadata": {},
          "execution_count": 204
        },
        {
          "output_type": "stream",
          "name": "stdout",
          "text": [
            "time: 819 ms (started: 2023-04-21 01:14:55 +00:00)\n"
          ]
        }
      ]
    },
    {
      "cell_type": "markdown",
      "source": [
        "### c.i"
      ],
      "metadata": {
        "id": "-PMqu0nmaJXz"
      }
    },
    {
      "cell_type": "code",
      "source": [
        "country_key_rdd = country_rdd.map(lambda x: (x[\"Name\"], x)).distinct()\n",
        "\n",
        "aqi_key_rdd = aqi_rdd.map(lambda x: (x[\"country\"], x)).distinct()\n",
        "\n",
        "aqi_country_join_rdd = aqi_key_rdd.rightOuterJoin(country_key_rdd).filter(lambda x: x[1][0] is None)\n",
        "aqi_country_join_rdd = aqi_country_join_rdd.map(lambda x: x[0]).distinct()\n",
        "aqi_country_join_rdd = aqi_country_join_rdd.sortBy(lambda x: x)\n",
        "\n",
        "aqi_country_join_rdd.collect()"
      ],
      "metadata": {
        "id": "M2OPcuBAaLKm",
        "outputId": "c33722d4-0dc9-4e13-9c11-72dc98b34726",
        "colab": {
          "base_uri": "https://localhost:8080/"
        }
      },
      "execution_count": 227,
      "outputs": [
        {
          "output_type": "execute_result",
          "data": {
            "text/plain": [
              "['Afghanistan',\n",
              " 'American Samoa',\n",
              " 'Anguilla',\n",
              " 'Antarctica',\n",
              " 'Antigua and Barbuda',\n",
              " 'Aruba',\n",
              " 'Bahamas',\n",
              " 'Barbados',\n",
              " 'Benin',\n",
              " 'Bhutan',\n",
              " 'Botswana',\n",
              " 'Bouvet Island',\n",
              " 'British Indian Ocean Territory',\n",
              " 'Burundi',\n",
              " 'Cameroon',\n",
              " 'Christmas Island',\n",
              " 'Cocos (Keeling) Islands',\n",
              " 'Comoros',\n",
              " 'Congo',\n",
              " 'Congo, The Democratic Republic of the',\n",
              " 'Cook Islands',\n",
              " 'Cuba',\n",
              " 'CÃ´te dÂ’Ivoire',\n",
              " 'Djibouti',\n",
              " 'Dominica',\n",
              " 'East Timor',\n",
              " 'Equatorial Guinea',\n",
              " 'Eritrea',\n",
              " 'Falkland Islands',\n",
              " 'Faroe Islands',\n",
              " 'Fiji Islands',\n",
              " 'French Polynesia',\n",
              " 'French Southern territories',\n",
              " 'Greenland',\n",
              " 'Guinea',\n",
              " 'Guinea-Bissau',\n",
              " 'Guyana',\n",
              " 'Haiti',\n",
              " 'Heard Island and McDonald Islands',\n",
              " 'Holy See (Vatican City State)',\n",
              " 'Jamaica',\n",
              " 'Kazakstan',\n",
              " 'Kiribati',\n",
              " 'Lesotho',\n",
              " 'Libyan Arab Jamahiriya',\n",
              " 'Malawi',\n",
              " 'Maldives',\n",
              " 'Mali',\n",
              " 'Marshall Islands',\n",
              " 'Mauritania',\n",
              " 'Mauritius',\n",
              " 'Mayotte',\n",
              " 'Micronesia, Federated States of',\n",
              " 'Montserrat',\n",
              " 'Morocco',\n",
              " 'Mozambique',\n",
              " 'Namibia',\n",
              " 'Nauru',\n",
              " 'Netherlands Antilles',\n",
              " 'Nicaragua',\n",
              " 'Niger',\n",
              " 'Niue',\n",
              " 'Norfolk Island',\n",
              " 'North Korea',\n",
              " 'Northern Mariana Islands',\n",
              " 'Oman',\n",
              " 'Palau',\n",
              " 'Palestine',\n",
              " 'Panama',\n",
              " 'Papua New Guinea',\n",
              " 'Paraguay',\n",
              " 'Pitcairn',\n",
              " 'Russian Federation',\n",
              " 'Rwanda',\n",
              " 'RÃ©union',\n",
              " 'Saint Helena',\n",
              " 'Saint Kitts and Nevis',\n",
              " 'Saint Lucia',\n",
              " 'Saint Pierre and Miquelon',\n",
              " 'Saint Vincent and the Grenadines',\n",
              " 'Samoa',\n",
              " 'Sao Tome and Principe',\n",
              " 'Seychelles',\n",
              " 'Sierra Leone',\n",
              " 'Solomon Islands',\n",
              " 'Somalia',\n",
              " 'South Georgia and the South Sandwich Islands',\n",
              " 'Suriname',\n",
              " 'Svalbard and Jan Mayen',\n",
              " 'Swaziland',\n",
              " 'Syria',\n",
              " 'Tanzania',\n",
              " 'Tokelau',\n",
              " 'Tonga',\n",
              " 'Tunisia',\n",
              " 'Turks and Caicos Islands',\n",
              " 'Tuvalu',\n",
              " 'United Kingdom',\n",
              " 'United States',\n",
              " 'United States Minor Outlying Islands',\n",
              " 'Uruguay',\n",
              " 'Vanuatu',\n",
              " 'Virgin Islands, British',\n",
              " 'Virgin Islands, U.S.',\n",
              " 'Wallis and Futuna',\n",
              " 'Western Sahara',\n",
              " 'Yemen',\n",
              " 'Yugoslavia',\n",
              " 'Zimbabwe']"
            ]
          },
          "metadata": {},
          "execution_count": 227
        },
        {
          "output_type": "stream",
          "name": "stdout",
          "text": [
            "time: 1.48 s (started: 2023-04-21 01:42:33 +00:00)\n"
          ]
        }
      ]
    },
    {
      "cell_type": "markdown",
      "source": [
        "### c.ii"
      ],
      "metadata": {
        "id": "yPiTvU2pXEjT"
      }
    },
    {
      "cell_type": "code",
      "source": [
        "country_key_rdd = country_rdd.map(lambda x: x[\"Name\"]).distinct()\n",
        "\n",
        "aqi_key_rdd = aqi_rdd.map(lambda x: x[\"country\"]).distinct()\n",
        "\n",
        "country_aqi_set_rdd = country_key_rdd.subtract(aqi_key_rdd).distinct()\n",
        "country_aqi_set_rdd = country_aqi_set_rdd.sortBy(lambda x: x)\n",
        "\n",
        "country_aqi_set_rdd.collect()"
      ],
      "metadata": {
        "id": "Y6hdR0EeXHjz",
        "outputId": "6831ceae-7061-425e-e62a-d3fcf64c3f96",
        "colab": {
          "base_uri": "https://localhost:8080/"
        }
      },
      "execution_count": 206,
      "outputs": [
        {
          "output_type": "execute_result",
          "data": {
            "text/plain": [
              "['Afghanistan',\n",
              " 'American Samoa',\n",
              " 'Anguilla',\n",
              " 'Antarctica',\n",
              " 'Antigua and Barbuda',\n",
              " 'Aruba',\n",
              " 'Bahamas',\n",
              " 'Barbados',\n",
              " 'Benin',\n",
              " 'Bhutan',\n",
              " 'Botswana',\n",
              " 'Bouvet Island',\n",
              " 'British Indian Ocean Territory',\n",
              " 'Burundi',\n",
              " 'Cameroon',\n",
              " 'Christmas Island',\n",
              " 'Cocos (Keeling) Islands',\n",
              " 'Comoros',\n",
              " 'Congo',\n",
              " 'Congo, The Democratic Republic of the',\n",
              " 'Cook Islands',\n",
              " 'Cuba',\n",
              " 'CÃ´te dÂ’Ivoire',\n",
              " 'Djibouti',\n",
              " 'Dominica',\n",
              " 'East Timor',\n",
              " 'Equatorial Guinea',\n",
              " 'Eritrea',\n",
              " 'Falkland Islands',\n",
              " 'Faroe Islands',\n",
              " 'Fiji Islands',\n",
              " 'French Polynesia',\n",
              " 'French Southern territories',\n",
              " 'Greenland',\n",
              " 'Guinea',\n",
              " 'Guinea-Bissau',\n",
              " 'Guyana',\n",
              " 'Haiti',\n",
              " 'Heard Island and McDonald Islands',\n",
              " 'Holy See (Vatican City State)',\n",
              " 'Jamaica',\n",
              " 'Kazakstan',\n",
              " 'Kiribati',\n",
              " 'Lesotho',\n",
              " 'Libyan Arab Jamahiriya',\n",
              " 'Malawi',\n",
              " 'Maldives',\n",
              " 'Mali',\n",
              " 'Marshall Islands',\n",
              " 'Mauritania',\n",
              " 'Mauritius',\n",
              " 'Mayotte',\n",
              " 'Micronesia, Federated States of',\n",
              " 'Montserrat',\n",
              " 'Morocco',\n",
              " 'Mozambique',\n",
              " 'Namibia',\n",
              " 'Nauru',\n",
              " 'Netherlands Antilles',\n",
              " 'Nicaragua',\n",
              " 'Niger',\n",
              " 'Niue',\n",
              " 'Norfolk Island',\n",
              " 'North Korea',\n",
              " 'Northern Mariana Islands',\n",
              " 'Oman',\n",
              " 'Palau',\n",
              " 'Palestine',\n",
              " 'Panama',\n",
              " 'Papua New Guinea',\n",
              " 'Paraguay',\n",
              " 'Pitcairn',\n",
              " 'Russian Federation',\n",
              " 'Rwanda',\n",
              " 'RÃ©union',\n",
              " 'Saint Helena',\n",
              " 'Saint Kitts and Nevis',\n",
              " 'Saint Lucia',\n",
              " 'Saint Pierre and Miquelon',\n",
              " 'Saint Vincent and the Grenadines',\n",
              " 'Samoa',\n",
              " 'Sao Tome and Principe',\n",
              " 'Seychelles',\n",
              " 'Sierra Leone',\n",
              " 'Solomon Islands',\n",
              " 'Somalia',\n",
              " 'South Georgia and the South Sandwich Islands',\n",
              " 'Suriname',\n",
              " 'Svalbard and Jan Mayen',\n",
              " 'Swaziland',\n",
              " 'Syria',\n",
              " 'Tanzania',\n",
              " 'Tokelau',\n",
              " 'Tonga',\n",
              " 'Tunisia',\n",
              " 'Turks and Caicos Islands',\n",
              " 'Tuvalu',\n",
              " 'United Kingdom',\n",
              " 'United States',\n",
              " 'United States Minor Outlying Islands',\n",
              " 'Uruguay',\n",
              " 'Vanuatu',\n",
              " 'Virgin Islands, British',\n",
              " 'Virgin Islands, U.S.',\n",
              " 'Wallis and Futuna',\n",
              " 'Western Sahara',\n",
              " 'Yemen',\n",
              " 'Yugoslavia',\n",
              " 'Zimbabwe']"
            ]
          },
          "metadata": {},
          "execution_count": 206
        },
        {
          "output_type": "stream",
          "name": "stdout",
          "text": [
            "time: 1.41 s (started: 2023-04-21 01:15:26 +00:00)\n"
          ]
        }
      ]
    },
    {
      "cell_type": "markdown",
      "source": [
        "### d"
      ],
      "metadata": {
        "id": "kKAKWzjcctBO"
      }
    },
    {
      "cell_type": "code",
      "source": [],
      "metadata": {
        "id": "HCbO9ZCUcunR"
      },
      "execution_count": null,
      "outputs": []
    }
  ]
}