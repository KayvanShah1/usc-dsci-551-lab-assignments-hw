{
  "nbformat": 4,
  "nbformat_minor": 0,
  "metadata": {
    "colab": {
      "provenance": [],
      "authorship_tag": "ABX9TyNpPgBLl8TJrCsgSKXFIZoo",
      "include_colab_link": true
    },
    "kernelspec": {
      "name": "python3",
      "display_name": "Python 3"
    },
    "language_info": {
      "name": "python"
    }
  },
  "cells": [
    {
      "cell_type": "markdown",
      "metadata": {
        "id": "view-in-github",
        "colab_type": "text"
      },
      "source": [
        "<a href=\"https://colab.research.google.com/github/KayvanShah1/usc-dsci-551-lab-assignments-hw/blob/main/homework-5/solution/PySpark_Assignment.ipynb\" target=\"_parent\"><img src=\"https://colab.research.google.com/assets/colab-badge.svg\" alt=\"Open In Colab\"/></a>"
      ]
    },
    {
      "cell_type": "markdown",
      "source": [
        "# Installation"
      ],
      "metadata": {
        "id": "mrrVPrhv2_cG"
      }
    },
    {
      "cell_type": "code",
      "execution_count": 1,
      "metadata": {
        "colab": {
          "base_uri": "https://localhost:8080/",
          "height": 0
        },
        "id": "rPqt1SnN27dm",
        "outputId": "94a505b5-08fc-47c6-fa50-fce9f45068e0"
      },
      "outputs": [
        {
          "output_type": "stream",
          "name": "stdout",
          "text": [
            "Looking in indexes: https://pypi.org/simple, https://us-python.pkg.dev/colab-wheels/public/simple/\n",
            "Collecting pyspark\n",
            "  Downloading pyspark-3.4.0.tar.gz (310.8 MB)\n",
            "\u001b[2K     \u001b[90m━━━━━━━━━━━━━━━━━━━━━━━━━━━━━━━━━━━━━━━\u001b[0m \u001b[32m310.8/310.8 MB\u001b[0m \u001b[31m2.5 MB/s\u001b[0m eta \u001b[36m0:00:00\u001b[0m\n",
            "\u001b[?25h  Preparing metadata (setup.py) ... \u001b[?25l\u001b[?25hdone\n",
            "Requirement already satisfied: py4j==0.10.9.7 in /usr/local/lib/python3.9/dist-packages (from pyspark) (0.10.9.7)\n",
            "Building wheels for collected packages: pyspark\n",
            "  Building wheel for pyspark (setup.py) ... \u001b[?25l\u001b[?25hdone\n",
            "  Created wheel for pyspark: filename=pyspark-3.4.0-py2.py3-none-any.whl size=311317145 sha256=1aacc411c7d28f0ca6e4c8024be19c576fe141c4ee3c2d6baf1af7e6b27bab91\n",
            "  Stored in directory: /root/.cache/pip/wheels/9f/34/a4/159aa12d0a510d5ff7c8f0220abbea42e5d81ecf588c4fd884\n",
            "Successfully built pyspark\n",
            "Installing collected packages: pyspark\n",
            "Successfully installed pyspark-3.4.0\n",
            "Looking in indexes: https://pypi.org/simple, https://us-python.pkg.dev/colab-wheels/public/simple/\n",
            "Collecting ipython-autotime\n",
            "  Downloading ipython_autotime-0.3.1-py2.py3-none-any.whl (6.8 kB)\n",
            "Requirement already satisfied: ipython in /usr/local/lib/python3.9/dist-packages (from ipython-autotime) (7.34.0)\n",
            "Requirement already satisfied: decorator in /usr/local/lib/python3.9/dist-packages (from ipython->ipython-autotime) (4.4.2)\n",
            "Requirement already satisfied: pickleshare in /usr/local/lib/python3.9/dist-packages (from ipython->ipython-autotime) (0.7.5)\n",
            "Requirement already satisfied: setuptools>=18.5 in /usr/local/lib/python3.9/dist-packages (from ipython->ipython-autotime) (67.6.1)\n",
            "Requirement already satisfied: matplotlib-inline in /usr/local/lib/python3.9/dist-packages (from ipython->ipython-autotime) (0.1.6)\n",
            "Requirement already satisfied: pygments in /usr/local/lib/python3.9/dist-packages (from ipython->ipython-autotime) (2.14.0)\n",
            "Requirement already satisfied: backcall in /usr/local/lib/python3.9/dist-packages (from ipython->ipython-autotime) (0.2.0)\n",
            "Collecting jedi>=0.16\n",
            "  Downloading jedi-0.18.2-py2.py3-none-any.whl (1.6 MB)\n",
            "\u001b[2K     \u001b[90m━━━━━━━━━━━━━━━━━━━━━━━━━━━━━━━━━━━━━━━━\u001b[0m \u001b[32m1.6/1.6 MB\u001b[0m \u001b[31m24.8 MB/s\u001b[0m eta \u001b[36m0:00:00\u001b[0m\n",
            "\u001b[?25hRequirement already satisfied: pexpect>4.3 in /usr/local/lib/python3.9/dist-packages (from ipython->ipython-autotime) (4.8.0)\n",
            "Requirement already satisfied: prompt-toolkit!=3.0.0,!=3.0.1,<3.1.0,>=2.0.0 in /usr/local/lib/python3.9/dist-packages (from ipython->ipython-autotime) (3.0.38)\n",
            "Requirement already satisfied: traitlets>=4.2 in /usr/local/lib/python3.9/dist-packages (from ipython->ipython-autotime) (5.7.1)\n",
            "Requirement already satisfied: parso<0.9.0,>=0.8.0 in /usr/local/lib/python3.9/dist-packages (from jedi>=0.16->ipython->ipython-autotime) (0.8.3)\n",
            "Requirement already satisfied: ptyprocess>=0.5 in /usr/local/lib/python3.9/dist-packages (from pexpect>4.3->ipython->ipython-autotime) (0.7.0)\n",
            "Requirement already satisfied: wcwidth in /usr/local/lib/python3.9/dist-packages (from prompt-toolkit!=3.0.0,!=3.0.1,<3.1.0,>=2.0.0->ipython->ipython-autotime) (0.2.6)\n",
            "Installing collected packages: jedi, ipython-autotime\n",
            "Successfully installed ipython-autotime-0.3.1 jedi-0.18.2\n",
            "time: 546 µs (started: 2023-04-20 08:54:09 +00:00)\n"
          ]
        }
      ],
      "source": [
        "!pip install pyspark\n",
        "!pip install ipython-autotime\n",
        "%load_ext autotime"
      ]
    },
    {
      "cell_type": "code",
      "source": [
        "%%bash\n",
        "java --version"
      ],
      "metadata": {
        "colab": {
          "base_uri": "https://localhost:8080/",
          "height": 0
        },
        "id": "_W8iNUi-3JI5",
        "outputId": "b4cec140-69b1-4ccb-d0d7-68e07f3f88d1"
      },
      "execution_count": 2,
      "outputs": [
        {
          "output_type": "stream",
          "name": "stdout",
          "text": [
            "openjdk 11.0.18 2023-01-17\n",
            "OpenJDK Runtime Environment (build 11.0.18+10-post-Ubuntu-0ubuntu120.04.1)\n",
            "OpenJDK 64-Bit Server VM (build 11.0.18+10-post-Ubuntu-0ubuntu120.04.1, mixed mode, sharing)\n",
            "time: 373 ms (started: 2023-04-20 08:54:09 +00:00)\n"
          ]
        }
      ]
    },
    {
      "cell_type": "markdown",
      "source": [
        "# Spark Session"
      ],
      "metadata": {
        "id": "6UYUIHwq3RpA"
      }
    },
    {
      "cell_type": "code",
      "source": [
        "# Import SparkSession\n",
        "from pyspark.sql import SparkSession\n",
        "# Create a Spark Session\n",
        "spark = SparkSession.builder.master(\"local[*]\").getOrCreate()\n",
        "# Check Spark Session Information\n",
        "spark"
      ],
      "metadata": {
        "colab": {
          "base_uri": "https://localhost:8080/",
          "height": 237
        },
        "id": "2UAAGls_3T4o",
        "outputId": "f9de56c5-b5c8-44d0-b5c5-c35f6c76b529"
      },
      "execution_count": 3,
      "outputs": [
        {
          "output_type": "execute_result",
          "data": {
            "text/plain": [
              "<pyspark.sql.session.SparkSession at 0x7ffa54dce9a0>"
            ],
            "text/html": [
              "\n",
              "            <div>\n",
              "                <p><b>SparkSession - in-memory</b></p>\n",
              "                \n",
              "        <div>\n",
              "            <p><b>SparkContext</b></p>\n",
              "\n",
              "            <p><a href=\"http://4f9d245d6dd7:4040\">Spark UI</a></p>\n",
              "\n",
              "            <dl>\n",
              "              <dt>Version</dt>\n",
              "                <dd><code>v3.4.0</code></dd>\n",
              "              <dt>Master</dt>\n",
              "                <dd><code>local[*]</code></dd>\n",
              "              <dt>AppName</dt>\n",
              "                <dd><code>pyspark-shell</code></dd>\n",
              "            </dl>\n",
              "        </div>\n",
              "        \n",
              "            </div>\n",
              "        "
            ]
          },
          "metadata": {},
          "execution_count": 3
        },
        {
          "output_type": "stream",
          "name": "stdout",
          "text": [
            "time: 12.8 s (started: 2023-04-20 08:54:09 +00:00)\n"
          ]
        }
      ]
    },
    {
      "cell_type": "code",
      "source": [
        "import pyspark.sql.functions as fc"
      ],
      "metadata": {
        "colab": {
          "base_uri": "https://localhost:8080/",
          "height": 0
        },
        "id": "RYzQq56c4kbN",
        "outputId": "41f6c75b-7661-4282-c4c5-10a617036581"
      },
      "execution_count": 4,
      "outputs": [
        {
          "output_type": "stream",
          "name": "stdout",
          "text": [
            "time: 676 µs (started: 2023-04-20 08:58:03 +00:00)\n"
          ]
        }
      ]
    },
    {
      "cell_type": "markdown",
      "source": [
        "# Assignment Solution"
      ],
      "metadata": {
        "id": "ajllNKjr3777"
      }
    },
    {
      "cell_type": "markdown",
      "source": [
        "Load Data to dataframes"
      ],
      "metadata": {
        "id": "TQI44SZI6DyP"
      }
    },
    {
      "cell_type": "code",
      "source": [
        "country_df = spark.read.json(\"country.json\")\n",
        "city_df = spark.read.json(\"city.json\")\n",
        "country_lang_df = spark.read.json(\"countrylanguage.json\")\n",
        "\n",
        "aqi_df = spark.read.csv(\"aqi.csv\", header=True, inferSchema=True)"
      ],
      "metadata": {
        "colab": {
          "base_uri": "https://localhost:8080/",
          "height": 0
        },
        "id": "BxKwP6_p5bc-",
        "outputId": "0968249c-e281-4625-d032-e97f6e4a616a"
      },
      "execution_count": 6,
      "outputs": [
        {
          "output_type": "stream",
          "name": "stdout",
          "text": [
            "time: 1.85 s (started: 2023-04-20 09:06:24 +00:00)\n"
          ]
        }
      ]
    },
    {
      "cell_type": "markdown",
      "source": [
        "### Sample View"
      ],
      "metadata": {
        "id": "ZrBCCJOL6lU_"
      }
    },
    {
      "cell_type": "code",
      "source": [
        "country_df.show(5)"
      ],
      "metadata": {
        "colab": {
          "base_uri": "https://localhost:8080/"
        },
        "id": "QpecbV4U6n3I",
        "outputId": "cc006b03-a7de-4d61-db4a-9c88d94cce6e"
      },
      "execution_count": 12,
      "outputs": [
        {
          "output_type": "stream",
          "name": "stdout",
          "text": [
            "+-------+----+-----+-------------+------+------+--------------------+--------------------+---------+--------------+--------------------+-----------+----------+--------------------+-----------+\n",
            "|Capital|Code|Code2|    Continent|   GNP|GNPOld|      GovernmentForm|         HeadOfState|IndepYear|LifeExpectancy|           LocalName|       Name|Population|              Region|SurfaceArea|\n",
            "+-------+----+-----+-------------+------+------+--------------------+--------------------+---------+--------------+--------------------+-----------+----------+--------------------+-----------+\n",
            "|    129| ABW|   AW|North America| 828.0| 793.0|Nonmetropolitan T...|             Beatrix|        0|          78.4|               Aruba|      Aruba|    103000|           Caribbean|      193.0|\n",
            "|      1| AFG|   AF|         Asia|5976.0|   0.0|     Islamic Emirate|       Mohammad Omar|     1919|          45.9|Afganistan/Afqane...|Afghanistan|  22720000|Southern and Cent...|   652090.0|\n",
            "|     56| AGO|   AO|       Africa|6648.0|7984.0|            Republic|JosÃ© Eduardo dos...|     1975|          38.3|              Angola|     Angola|  12878000|      Central Africa|  1246700.0|\n",
            "|     62| AIA|   AI|North America|  63.2|   0.0|Dependent Territo...|        Elisabeth II|        0|          76.1|            Anguilla|   Anguilla|      8000|           Caribbean|       96.0|\n",
            "|     34| ALB|   AL|       Europe|3205.0|2500.0|            Republic|      Rexhep Mejdani|     1912|          71.6|          ShqipÃ«ria|    Albania|   3401200|     Southern Europe|    28748.0|\n",
            "+-------+----+-----+-------------+------+------+--------------------+--------------------+---------+--------------+--------------------+-----------+----------+--------------------+-----------+\n",
            "only showing top 5 rows\n",
            "\n",
            "time: 281 ms (started: 2023-04-20 09:11:19 +00:00)\n"
          ]
        }
      ]
    },
    {
      "cell_type": "code",
      "source": [
        "city_df.show(5)"
      ],
      "metadata": {
        "colab": {
          "base_uri": "https://localhost:8080/",
          "height": 0
        },
        "id": "lZ-KmipB6vqX",
        "outputId": "a20b9730-0c5c-4228-94b7-b1e3874ef5bc"
      },
      "execution_count": 8,
      "outputs": [
        {
          "output_type": "stream",
          "name": "stdout",
          "text": [
            "+-----------+-------------+---+--------------+----------+\n",
            "|CountryCode|     District| ID|          Name|Population|\n",
            "+-----------+-------------+---+--------------+----------+\n",
            "|        AFG|        Kabol|  1|         Kabul|   1780000|\n",
            "|        AFG|     Qandahar|  2|      Qandahar|    237500|\n",
            "|        AFG|        Herat|  3|         Herat|    186800|\n",
            "|        AFG|        Balkh|  4|Mazar-e-Sharif|    127800|\n",
            "|        NLD|Noord-Holland|  5|     Amsterdam|    731200|\n",
            "+-----------+-------------+---+--------------+----------+\n",
            "only showing top 5 rows\n",
            "\n",
            "time: 330 ms (started: 2023-04-20 09:07:22 +00:00)\n"
          ]
        }
      ]
    },
    {
      "cell_type": "code",
      "source": [
        "country_lang_df.show(5)"
      ],
      "metadata": {
        "colab": {
          "base_uri": "https://localhost:8080/",
          "height": 0
        },
        "id": "G7400chF6z2f",
        "outputId": "8720435a-1b52-40a1-fe3c-6713eb1e2b94"
      },
      "execution_count": 9,
      "outputs": [
        {
          "output_type": "stream",
          "name": "stdout",
          "text": [
            "+-----------+----------+----------+----------+\n",
            "|CountryCode|IsOfficial|  Language|Percentage|\n",
            "+-----------+----------+----------+----------+\n",
            "|        ABW|         T|     Dutch|       5.3|\n",
            "|        ABW|         F|   English|       9.5|\n",
            "|        ABW|         F|Papiamento|      76.7|\n",
            "|        ABW|         F|   Spanish|       7.4|\n",
            "|        AFG|         F|   Balochi|       0.9|\n",
            "+-----------+----------+----------+----------+\n",
            "only showing top 5 rows\n",
            "\n",
            "time: 317 ms (started: 2023-04-20 09:07:38 +00:00)\n"
          ]
        }
      ]
    },
    {
      "cell_type": "code",
      "source": [
        "aqi_df.show(5)"
      ],
      "metadata": {
        "colab": {
          "base_uri": "https://localhost:8080/",
          "height": 0
        },
        "id": "emXkCeEK63K5",
        "outputId": "a2da23bc-84eb-4f15-8e11-4a93f22546e5"
      },
      "execution_count": 10,
      "outputs": [
        {
          "output_type": "stream",
          "name": "stdout",
          "text": [
            "+----------+---------+--------------------+-----+\n",
            "|      date|  country|              status|value|\n",
            "+----------+---------+--------------------+-----+\n",
            "|2022-07-21|  Albania|                Good|   14|\n",
            "|2022-07-21|  Algeria|            Moderate|   65|\n",
            "|2022-07-21|  Andorra|            Moderate|   55|\n",
            "|2022-07-21|   Angola|Unhealthy for Sen...|  113|\n",
            "|2022-07-21|Argentina|            Moderate|   63|\n",
            "+----------+---------+--------------------+-----+\n",
            "only showing top 5 rows\n",
            "\n",
            "time: 317 ms (started: 2023-04-20 09:07:53 +00:00)\n"
          ]
        }
      ]
    },
    {
      "cell_type": "markdown",
      "source": [
        "## Question 2"
      ],
      "metadata": {
        "id": "cFtGdfrT3_Uf"
      }
    },
    {
      "cell_type": "markdown",
      "source": [
        "### a.i"
      ],
      "metadata": {
        "id": "phM8N5uW4g_3"
      }
    },
    {
      "cell_type": "code",
      "source": [
        "joined_df = aqi_df.join(country_df, aqi_df.country == country_df.Name)\n",
        "joined_df.show(10)"
      ],
      "metadata": {
        "colab": {
          "base_uri": "https://localhost:8080/"
        },
        "id": "iG5DFTlM3esJ",
        "outputId": "ffc7993a-a4a4-40d4-e9f0-2790e535f101"
      },
      "execution_count": 20,
      "outputs": [
        {
          "output_type": "stream",
          "name": "stdout",
          "text": [
            "+----------+----------+--------------------+-----+-------+----+-----+-------------+--------+--------+--------------------+--------------------+---------+--------------+--------------------+----------+----------+--------------------+-----------+\n",
            "|      date|   country|              status|value|Capital|Code|Code2|    Continent|     GNP|  GNPOld|      GovernmentForm|         HeadOfState|IndepYear|LifeExpectancy|           LocalName|      Name|Population|              Region|SurfaceArea|\n",
            "+----------+----------+--------------------+-----+-------+----+-----+-------------+--------+--------+--------------------+--------------------+---------+--------------+--------------------+----------+----------+--------------------+-----------+\n",
            "|2022-07-21|   Albania|                Good|   14|     34| ALB|   AL|       Europe|  3205.0|  2500.0|            Republic|      Rexhep Mejdani|     1912|          71.6|          ShqipÃ«ria|   Albania|   3401200|     Southern Europe|    28748.0|\n",
            "|2022-07-21|   Algeria|            Moderate|   65|     35| DZA|   DZ|       Africa| 49982.0| 46966.0|            Republic|Abdelaziz Bouteflika|     1962|          69.7|Al-JazaÂ’ir/AlgÃ©rie|   Algeria|  31471000|     Northern Africa|  2381741.0|\n",
            "|2022-07-21|   Andorra|            Moderate|   55|     55| AND|   AD|       Europe|  1630.0|     0.0|Parliamentary Cop...|                    |     1278|          83.5|             Andorra|   Andorra|     78000|     Southern Europe|      468.0|\n",
            "|2022-07-21|    Angola|Unhealthy for Sen...|  113|     56| AGO|   AO|       Africa|  6648.0|  7984.0|            Republic|JosÃ© Eduardo dos...|     1975|          38.3|              Angola|    Angola|  12878000|      Central Africa|  1246700.0|\n",
            "|2022-07-21| Argentina|            Moderate|   63|     69| ARG|   AR|South America|340238.0|323310.0|    Federal Republic| Fernando de la RÃºa|     1816|          75.1|           Argentina| Argentina|  37032000|       South America|  2780400.0|\n",
            "|2022-07-21|   Armenia|            Moderate|   76|    126| ARM|   AM|         Asia|  1813.0|  1627.0|            Republic|   Robert KotÂšarjan|     1991|          66.4|            Hajastan|   Armenia|   3520000|         Middle East|    29800.0|\n",
            "|2022-07-21| Australia|            Moderate|   56|    135| AUS|   AU|      Oceania|351182.0|392911.0|Constitutional Mo...|        Elisabeth II|     1901|          79.8|           Australia| Australia|  18886000|Australia and New...|  7741220.0|\n",
            "|2022-07-21|   Austria|                Good|   45|   1523| AUT|   AT|       Europe|211860.0|206025.0|    Federal Republic|      Thomas Klestil|     1918|          77.7|         Ã–sterreich|   Austria|   8091800|      Western Europe|    83859.0|\n",
            "|2022-07-21|Azerbaijan|                Good|   12|    144| AZE|   AZ|         Asia|  4127.0|  4100.0|    Federal Republic|     HeydÃ¤r Ã„liyev|     1991|          62.9|         AzÃ¤rbaycan|Azerbaijan|   7734000|         Middle East|    86600.0|\n",
            "|2022-07-21|   Bahrain|           Unhealthy|  165|    149| BHR|   BH|         Asia|  6366.0|  6097.0|  Monarchy (Emirate)|Hamad ibn Isa al-...|     1971|          73.0|          Al-Bahrayn|   Bahrain|    617000|         Middle East|      694.0|\n",
            "+----------+----------+--------------------+-----+-------+----+-----+-------------+--------+--------+--------------------+--------------------+---------+--------------+--------------------+----------+----------+--------------------+-----------+\n",
            "only showing top 10 rows\n",
            "\n",
            "time: 642 ms (started: 2023-04-20 09:27:38 +00:00)\n"
          ]
        }
      ]
    },
    {
      "cell_type": "code",
      "source": [
        "result_df = joined_df.select(\"Name\").distinct()\n",
        "result_df.show()"
      ],
      "metadata": {
        "colab": {
          "base_uri": "https://localhost:8080/"
        },
        "id": "PNL2i7WM77_g",
        "outputId": "653a5208-f3bc-45c8-8c09-452ad2df8908"
      },
      "execution_count": 17,
      "outputs": [
        {
          "output_type": "stream",
          "name": "stdout",
          "text": [
            "+-----------+\n",
            "|       Name|\n",
            "+-----------+\n",
            "|       Chad|\n",
            "|      Macao|\n",
            "|    Senegal|\n",
            "|     Sweden|\n",
            "|Philippines|\n",
            "|   Malaysia|\n",
            "|  Singapore|\n",
            "|     Turkey|\n",
            "|       Iraq|\n",
            "|    Germany|\n",
            "|   Cambodia|\n",
            "|     Jordan|\n",
            "|      Sudan|\n",
            "|     France|\n",
            "|     Greece|\n",
            "|  Sri Lanka|\n",
            "|     Taiwan|\n",
            "|    Algeria|\n",
            "|       Togo|\n",
            "|   Slovakia|\n",
            "+-----------+\n",
            "only showing top 20 rows\n",
            "\n",
            "time: 1.2 s (started: 2023-04-20 09:18:47 +00:00)\n"
          ]
        }
      ]
    },
    {
      "cell_type": "markdown",
      "source": [
        "### a.ii"
      ],
      "metadata": {
        "id": "R80KvS5X90PU"
      }
    },
    {
      "cell_type": "code",
      "source": [
        "country_set = country_df.select(\"Name\").distinct()\n",
        "aqi_set = aqi_df.select(\"country\").distinct()\n",
        "\n",
        "result_set = country_set.intersect(aqi_set)\n",
        "\n",
        "result_set.show()"
      ],
      "metadata": {
        "colab": {
          "base_uri": "https://localhost:8080/"
        },
        "id": "nU-5KYVX91Pq",
        "outputId": "fa4dd672-ac77-4f42-f7c3-87599c24e06a"
      },
      "execution_count": 18,
      "outputs": [
        {
          "output_type": "stream",
          "name": "stdout",
          "text": [
            "+-----------+\n",
            "|       Name|\n",
            "+-----------+\n",
            "|       Chad|\n",
            "|      Macao|\n",
            "|    Senegal|\n",
            "|     Sweden|\n",
            "|Philippines|\n",
            "|   Malaysia|\n",
            "|  Singapore|\n",
            "|     Turkey|\n",
            "|       Iraq|\n",
            "|    Germany|\n",
            "|   Cambodia|\n",
            "|     Jordan|\n",
            "|      Sudan|\n",
            "|     France|\n",
            "|     Greece|\n",
            "|  Sri Lanka|\n",
            "|     Taiwan|\n",
            "|    Algeria|\n",
            "|       Togo|\n",
            "|   Slovakia|\n",
            "+-----------+\n",
            "only showing top 20 rows\n",
            "\n",
            "time: 1.3 s (started: 2023-04-20 09:21:25 +00:00)\n"
          ]
        }
      ]
    },
    {
      "cell_type": "markdown",
      "source": [
        "### b.i"
      ],
      "metadata": {
        "id": "Yx9jkyA--Gdh"
      }
    },
    {
      "cell_type": "code",
      "source": [],
      "metadata": {
        "id": "n6KlGB7F-Ivh"
      },
      "execution_count": null,
      "outputs": []
    }
  ]
}